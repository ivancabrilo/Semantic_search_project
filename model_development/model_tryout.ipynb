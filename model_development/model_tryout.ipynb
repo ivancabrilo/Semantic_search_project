{
 "cells": [
  {
   "cell_type": "code",
   "execution_count": 138,
   "id": "39a518a5",
   "metadata": {},
   "outputs": [],
   "source": [
    "import polars as pl\n",
    "\n",
    "# text embedding models\n",
    "from sentence_transformers import SentenceTransformer, util\n",
    "\n",
    "# DistanceMetric shows similar user query is to each video\n",
    "from sklearn.metrics import DistanceMetric\n",
    "import numpy as np\n",
    "\n",
    "import matplotlib.pyplot as plt"
   ]
  },
  {
   "cell_type": "code",
   "execution_count": 139,
   "id": "3b8730fd",
   "metadata": {},
   "outputs": [
    {
     "data": {
      "text/html": [
       "<div><style>\n",
       ".dataframe > thead > tr,\n",
       ".dataframe > tbody > tr {\n",
       "  text-align: right;\n",
       "  white-space: pre-wrap;\n",
       "}\n",
       "</style>\n",
       "<small>shape: (5, 4)</small><table border=\"1\" class=\"dataframe\"><thead><tr><th>video_id</th><th>datetime</th><th>title</th><th>transcript</th></tr><tr><td>str</td><td>datetime[μs]</td><td>str</td><td>str</td></tr></thead><tbody><tr><td>&quot;wwSzpaTHyS8&quot;</td><td>2024-01-30 15:00:03</td><td>&quot;Did The Future Already Happen?…</td><td>&quot;Do your past, present and futu…</td></tr><tr><td>&quot;dFCbJmgeHmA&quot;</td><td>2021-06-15 14:09:03</td><td>&quot;The Day the Dinosaurs Died – M…</td><td>&quot;one of the greatest Illusions …</td></tr><tr><td>&quot;1AElONvi9WQ&quot;</td><td>2020-03-01 13:30:00</td><td>&quot;Why Blue Whales Don&#x27;t Get Canc…</td><td>&quot;Cancer is a creepy and mysteri…</td></tr><tr><td>&quot;Hug0rfFC_L8&quot;</td><td>2014-12-18 14:02:27</td><td>&quot;The Ultimate Conspiracy Debunk…</td><td>&quot;The Internet is like a breedin…</td></tr><tr><td>&quot;lXfEK8G8CUI&quot;</td><td>2021-08-10 13:59:41</td><td>&quot;How The Immune System ACTUALLY…</td><td>&quot;the human immune system is the…</td></tr></tbody></table></div>"
      ],
      "text/plain": [
       "shape: (5, 4)\n",
       "┌─────────────┬─────────────────────┬───────────────────────────────┬──────────────────────────────┐\n",
       "│ video_id    ┆ datetime            ┆ title                         ┆ transcript                   │\n",
       "│ ---         ┆ ---                 ┆ ---                           ┆ ---                          │\n",
       "│ str         ┆ datetime[μs]        ┆ str                           ┆ str                          │\n",
       "╞═════════════╪═════════════════════╪═══════════════════════════════╪══════════════════════════════╡\n",
       "│ wwSzpaTHyS8 ┆ 2024-01-30 15:00:03 ┆ Did The Future Already        ┆ Do your past, present and    │\n",
       "│             ┆                     ┆ Happen?…                      ┆ futu…                        │\n",
       "│ dFCbJmgeHmA ┆ 2021-06-15 14:09:03 ┆ The Day the Dinosaurs Died –  ┆ one of the greatest          │\n",
       "│             ┆                     ┆ M…                            ┆ Illusions …                  │\n",
       "│ 1AElONvi9WQ ┆ 2020-03-01 13:30:00 ┆ Why Blue Whales Don't Get     ┆ Cancer is a creepy and       │\n",
       "│             ┆                     ┆ Canc…                         ┆ mysteri…                     │\n",
       "│ Hug0rfFC_L8 ┆ 2014-12-18 14:02:27 ┆ The Ultimate Conspiracy       ┆ The Internet is like a       │\n",
       "│             ┆                     ┆ Debunk…                       ┆ breedin…                     │\n",
       "│ lXfEK8G8CUI ┆ 2021-08-10 13:59:41 ┆ How The Immune System         ┆ the human immune system is   │\n",
       "│             ┆                     ┆ ACTUALLY…                     ┆ the…                         │\n",
       "└─────────────┴─────────────────────┴───────────────────────────────┴──────────────────────────────┘"
      ]
     },
     "execution_count": 139,
     "metadata": {},
     "output_type": "execute_result"
    }
   ],
   "source": [
    "#Load the DATA\n",
    "#df0 = pl.read_parquet('data/video-transcripts.parquet')\n",
    "df = pl.read_csv('data/video-transcripts.csv')\n",
    "df_eval = pl.read_csv('data/eval-raw-cleaned.csv')\n",
    "\n",
    "df = df.with_columns(pl.col('datetime').cast(pl.Datetime))\n",
    "df.head()\n"
   ]
  },
  {
   "cell_type": "code",
   "execution_count": 140,
   "id": "bae4e885",
   "metadata": {},
   "outputs": [],
   "source": [
    "# parameters\n",
    "\n",
    "column_to_embed_list = [\"title\", \"transcript\"]\n",
    "model_name_list = ['all-MiniLM-L6-v2', \"multi-qa-distilbert-cos-v1\",\"multi-qa-mpnet-base-dot-v1\"]"
   ]
  },
  {
   "cell_type": "code",
   "execution_count": 141,
   "id": "23cdd348",
   "metadata": {},
   "outputs": [
    {
     "name": "stdout",
     "output_type": "stream",
     "text": [
      "all-MiniLM-L6-v2_title\n",
      "CPU times: user 65.6 ms, sys: 496 ms, total: 562 ms\n",
      "Wall time: 3.07 s\n",
      "\n",
      "all-MiniLM-L6-v2_transcript\n",
      "CPU times: user 1.36 s, sys: 380 ms, total: 1.74 s\n",
      "Wall time: 1.04 s\n",
      "\n",
      "multi-qa-distilbert-cos-v1_title\n",
      "CPU times: user 55.3 ms, sys: 40.3 ms, total: 95.5 ms\n",
      "Wall time: 192 ms\n",
      "\n",
      "multi-qa-distilbert-cos-v1_transcript\n",
      "CPU times: user 1.17 s, sys: 344 ms, total: 1.52 s\n",
      "Wall time: 3.93 s\n",
      "\n",
      "multi-qa-mpnet-base-dot-v1_title\n",
      "CPU times: user 119 ms, sys: 97.6 ms, total: 217 ms\n",
      "Wall time: 391 ms\n",
      "\n",
      "multi-qa-mpnet-base-dot-v1_transcript\n",
      "CPU times: user 1.29 s, sys: 347 ms, total: 1.63 s\n",
      "Wall time: 8.95 s\n",
      "\n"
     ]
    }
   ],
   "source": [
    "# generate embeddings for 6 possible combinations of video-transcript data\n",
    "\n",
    "text_embedding_dict = {}\n",
    "\n",
    "for model_name in model_name_list:\n",
    "    \n",
    "    model = SentenceTransformer(model_name)\n",
    "    #print(model)  2 models are normalized with euclidian normalization so that all vectors are equal in \"strength\" (length = 1)\n",
    "\n",
    "    for column_name in column_to_embed_list: # either title or transcript\n",
    "        key_name = model_name + \"_\" + column_name \n",
    "        print(key_name)\n",
    "\n",
    "        # generate embeddings for text under column_name (both transcript or title)\n",
    "        %time embedding_arr = model.encode(df[column_name].to_list())\n",
    "        print('')\n",
    "\n",
    "        text_embedding_dict[key_name] = embedding_arr # type: ignore "
   ]
  },
  {
   "cell_type": "code",
   "execution_count": 142,
   "id": "3ad966d4",
   "metadata": {},
   "outputs": [
    {
     "data": {
      "text/plain": [
       "(217, 768)"
      ]
     },
     "execution_count": 142,
     "metadata": {},
     "output_type": "execute_result"
    }
   ],
   "source": [
    "embedding_arr.shape"
   ]
  },
  {
   "cell_type": "code",
   "execution_count": 143,
   "id": "53ba6706",
   "metadata": {},
   "outputs": [
    {
     "data": {
      "text/plain": [
       "'\\nEach video ends up with the same number of dimensions (columns) in its embedding vector, \\nregardless of how long the title or transcript is.\\n\\n1. The string is tokenized into smaller pieces (words, subwords).\\n\\n2. These tokens go through a Transformer model, which captures the meaning and context.\\n\\n3. The model then reduces all this information into a single fixed-size vector.\\n\\n+ Easy comparison between any two texts (e.g. title vs. query, transcript vs. query).\\n\\n+ Efficient semantic search, clustering, classification, etc.\\n\\n'"
      ]
     },
     "execution_count": 143,
     "metadata": {},
     "output_type": "execute_result"
    }
   ],
   "source": [
    "text_embedding_dict\n",
    "\"\"\"\n",
    "Each video ends up with the same number of dimensions (columns) in its embedding vector, \n",
    "regardless of how long the title or transcript is.\n",
    "\n",
    "1. The string is tokenized into smaller pieces (words, subwords).\n",
    "\n",
    "2. These tokens go through a Transformer model, which captures the meaning and context.\n",
    "\n",
    "3. The model then reduces all this information into a single fixed-size vector.\n",
    "\n",
    "+ Easy comparison between any two texts (e.g. title vs. query, transcript vs. query).\n",
    "\n",
    "+ Efficient semantic search, clustering, classification, etc.\n",
    "\n",
    "\"\"\""
   ]
  },
  {
   "cell_type": "code",
   "execution_count": 144,
   "id": "8a69cb90",
   "metadata": {},
   "outputs": [
    {
     "name": "stdout",
     "output_type": "stream",
     "text": [
      "all-MiniLM-L6-v2\n",
      "CPU times: user 38.5 ms, sys: 26.5 ms, total: 65 ms\n",
      "Wall time: 76.5 ms\n",
      "\n",
      "multi-qa-distilbert-cos-v1\n",
      "CPU times: user 45.7 ms, sys: 23.1 ms, total: 68.8 ms\n",
      "Wall time: 98.9 ms\n",
      "\n",
      "multi-qa-mpnet-base-dot-v1\n",
      "CPU times: user 82.1 ms, sys: 174 ms, total: 256 ms\n",
      "Wall time: 328 ms\n",
      "\n"
     ]
    }
   ],
   "source": [
    "# make the embedding for evaulation data\n",
    "query_embedding_dict = {}\n",
    "\n",
    "for model_name in model_name_list:\n",
    "\n",
    "    model= SentenceTransformer(model_name)\n",
    "    print(model_name)\n",
    "\n",
    "    # embed query text\n",
    "    %time embedding_arr = model.encode(df_eval['query'].to_list())\n",
    "    print('')\n",
    "\n",
    "    # store it into embedding dict\n",
    "    query_embedding_dict[model_name] = embedding_arr # type: ignore"
   ]
  },
  {
   "cell_type": "code",
   "execution_count": 145,
   "id": "e40cb187",
   "metadata": {},
   "outputs": [
    {
     "name": "stdout",
     "output_type": "stream",
     "text": [
      "137\n",
      "[ 1.78847209e-01 -9.87320393e-03 -4.14049625e-01 -6.45881593e-02\n",
      "  1.45963863e-01 -3.64585370e-02  3.81362587e-02  1.10301912e-01\n",
      "  3.24565060e-02  1.68996394e-01 -1.05586849e-01  1.42462164e-01\n",
      " -3.25847745e-01  8.29601660e-04 -1.60027668e-01 -2.09816173e-03\n",
      "  2.09358454e-01 -7.29408860e-02  3.50981988e-02 -2.18159929e-01\n",
      " -2.83594251e-01 -2.47421369e-01 -1.37302876e-01  5.51879331e-02\n",
      " -2.94683456e-01 -4.87244688e-03  2.37264428e-02  3.75497490e-01\n",
      " -3.50297429e-03 -1.12414649e-02 -5.26690483e-02 -1.51533782e-02\n",
      "  1.83607131e-01  2.49425501e-01 -9.00616578e-05 -2.04561532e-01\n",
      " -1.59090176e-01  2.05659956e-01 -2.43804865e-02  2.54055858e-02\n",
      " -2.06916064e-01  7.60148168e-02 -1.55353382e-01  1.04587175e-01\n",
      " -1.79002080e-02  7.10462853e-02  4.38751616e-02 -7.00071901e-02\n",
      "  3.68219435e-01 -1.07797034e-01  4.58051741e-01 -1.46145061e-01\n",
      " -8.49771798e-02 -6.38186261e-02 -1.85329527e-01  2.31639460e-01\n",
      "  3.39643285e-02 -1.29878536e-01  5.63105419e-02  2.43548770e-02\n",
      "  2.69304872e-01  1.34283230e-01 -7.98912123e-02 -1.93859637e-03\n",
      " -2.60552377e-01 -2.83815600e-02  3.53841662e-01  3.61411035e-01\n",
      " -1.57584518e-01 -5.72372451e-02  1.66401118e-01  2.18977127e-02\n",
      " -6.88569397e-02  1.13490574e-01 -5.11469925e-03 -4.86981034e-01\n",
      "  1.39550239e-01 -7.37596676e-02 -3.37310471e-02  5.01355156e-03\n",
      "  1.42237425e-01 -7.79951140e-02 -1.42199770e-01  5.45939021e-02\n",
      " -1.39016449e-01  7.36442685e-01 -1.93522528e-01  5.35380431e-02\n",
      " -1.50210604e-01  9.22183096e-02 -2.78708130e-01  2.85035610e-01\n",
      "  2.69929692e-02  2.24489257e-01 -1.08760461e-01 -3.81193049e-02\n",
      " -3.46762165e-02  2.76905239e-01  6.09641150e-02 -1.84043676e-01\n",
      " -2.20012411e-01  2.68402576e-01 -3.18872809e-01  5.89926168e-03\n",
      "  2.03673556e-01 -2.72868752e-01  1.21836245e-01 -1.37950018e-01\n",
      "  1.50178373e-01 -6.05217405e-02 -2.91749001e-01  1.33714452e-01\n",
      " -5.23650646e-02 -1.18777819e-01  1.77999854e-01 -1.90457523e-01\n",
      "  1.52400792e-01 -1.57699585e-01  8.60190950e-03  4.22085017e-01\n",
      "  1.11150481e-02 -4.77099419e-02 -4.33162093e-01  8.87273252e-02\n",
      " -3.33043784e-02  2.47221887e-01 -1.10364176e-01  2.37661526e-02\n",
      "  1.10866703e-01 -2.09739000e-01 -3.14751744e-01 -4.04889852e-01\n",
      " -3.94867599e-01  2.49983683e-01 -1.46025002e-01  8.48834962e-02\n",
      "  1.78786874e-01  1.97160169e-01  5.60651571e-02 -7.26843923e-02\n",
      "  9.91386548e-02  2.95639411e-03  2.26841658e-01  1.82180926e-01\n",
      " -4.64801304e-02  8.51132646e-02  4.05279733e-02  5.17036766e-04\n",
      " -1.19107440e-01 -6.85381219e-02  1.84695706e-01  1.96401067e-02\n",
      "  2.83399284e-01  4.50507134e-01 -4.20319103e-03  1.52967140e-01\n",
      "  2.67948568e-01 -1.75031826e-01  2.35904306e-01 -1.59205168e-01\n",
      "  2.04780921e-01  1.04408532e-01 -3.50090563e-01 -2.41534442e-01\n",
      " -1.46829993e-01  2.98772603e-01  1.48314908e-02  1.80559203e-01\n",
      " -2.96656061e-02 -1.60392910e-01 -3.86628509e-03  3.13244760e-03\n",
      "  3.78325544e-02  5.55194393e-02 -2.74564326e-01 -2.50046313e-01\n",
      " -1.85175240e-01  2.63226688e-01 -2.49973208e-01  4.81566638e-02\n",
      " -9.18069780e-02  2.75276992e-02  1.25956789e-01  2.72316523e-02\n",
      " -1.56860933e-01 -6.48346841e-02  7.60815069e-02 -5.46245798e-02\n",
      " -1.05725795e-01 -1.00601099e-01 -1.02967575e-01 -1.75615013e-01\n",
      "  2.43920594e-01 -6.05785884e-02  2.06111223e-01  1.76014125e-01\n",
      "  1.81840122e-01  2.04193771e-01  1.55134603e-01  3.13154161e-01\n",
      " -6.04884252e-02 -4.84955013e-02 -1.84847787e-03  1.59971528e-02\n",
      " -2.14302875e-02 -3.18606913e-01 -2.09185421e-01 -1.82797015e-01\n",
      " -9.47763547e-02 -2.35067382e-02  1.86396047e-01  5.47203496e-02\n",
      " -2.63796467e-03  1.46899939e-01 -1.46984130e-01  6.16363958e-02\n",
      "  4.17014211e-01  2.15968385e-01 -4.98908088e-02 -2.04955325e-01\n",
      " -3.68583947e-01  2.82224834e-01 -6.51698411e-02  2.88418960e-02\n",
      " -5.69930486e-02  1.33024141e-01 -1.43721014e-01 -2.44639635e-01\n",
      " -1.72288045e-01  1.53785944e-01 -2.85471529e-01  1.39403313e-01\n",
      " -6.33809417e-02 -5.58618829e-02 -2.14422300e-01  1.56631678e-01\n",
      "  3.82491142e-01  4.79583383e-01 -1.05515487e-01 -3.86913389e-01\n",
      "  1.17133230e-01 -2.03038752e-01  1.34448394e-01  1.02835707e-01\n",
      "  2.04595685e-01  2.61383861e-01  6.37861341e-02  7.73774832e-02\n",
      " -1.37447163e-01 -2.98897892e-01 -2.44810097e-02 -1.85328960e-01\n",
      "  1.27037540e-01 -2.72064090e-01 -2.98767053e-02  2.65658170e-01\n",
      " -1.92453474e-01  5.72679490e-02 -1.09720618e-01 -1.31770074e-02\n",
      "  9.05642956e-02  3.02481391e-02  1.31285638e-01 -4.21896577e-04\n",
      "  3.59094590e-02 -6.20303489e-03  1.90514013e-01 -3.32509071e-01\n",
      "  1.39504477e-01  1.72591865e-01  3.61747742e-02 -1.79483164e-02\n",
      " -1.47323251e-01 -2.97465473e-01 -8.51730034e-02 -2.09035292e-01\n",
      "  6.92834705e-02  2.25180000e-01 -1.40277863e-01  2.46348567e-02\n",
      "  1.77446693e-01  2.03380227e-01 -3.18106651e-01 -3.82904783e-02\n",
      "  6.65530264e-02 -1.17707714e-01 -5.74591570e-02  8.77488032e-02\n",
      "  1.60576582e-01  1.53768659e-02 -1.68440908e-01 -5.02706831e-03\n",
      " -1.86122283e-01 -2.57489353e-01 -9.00481865e-02 -1.61669344e-01\n",
      " -1.57603592e-01 -9.58670676e-03  1.21211961e-01  3.46158803e-01\n",
      " -3.93037498e-02 -4.05777842e-01  6.60748035e-02  3.55583847e-01\n",
      " -2.30874553e-01 -3.48017991e-01  9.51653644e-02 -1.01861089e-01\n",
      " -3.93733144e-01 -1.48670733e-01 -1.69456124e-01  7.58090094e-02\n",
      "  1.14099860e-01 -2.34723985e-01  5.26974015e-02  2.31955886e-01\n",
      " -1.20528206e-01 -3.26788068e-01  2.24066645e-01 -2.78513640e-01\n",
      "  8.88828486e-02  2.10368142e-01  7.61400536e-03  2.03996882e-01\n",
      "  1.12780631e-01 -1.98594421e-01  1.07091323e-01  4.46292199e-02\n",
      "  2.28515282e-01  1.06186286e-01 -4.66746017e-02  9.72918496e-02\n",
      "  2.63085872e-01 -1.30735442e-01 -3.29309255e-01  4.01450768e-02\n",
      " -1.59249723e-01 -2.98035026e-01 -1.37487240e-02 -3.58167179e-02\n",
      "  1.49678171e-01  9.37508941e-02  1.52182654e-02  8.24660435e-02\n",
      " -2.10076049e-01 -1.73192292e-01 -1.30466193e-01  2.02582672e-01\n",
      "  2.88517416e-01 -2.36069024e-01  1.17719106e-01  1.71531796e-01\n",
      "  2.08842196e-03 -4.28375125e-01 -2.04565436e-01  2.89322108e-01\n",
      "  1.53912410e-01 -4.97098640e-02  2.20043838e-01 -7.86233917e-02\n",
      " -1.13898031e-01  2.92097814e-02 -5.16330600e-02 -2.01694414e-01\n",
      " -4.56026234e-02 -1.01150945e-02  5.46990931e-01  2.36624390e-01\n",
      "  8.40470716e-02  2.11899117e-01 -5.11890762e-02 -8.57075304e-02\n",
      "  1.38512060e-01  3.42120618e-01  2.55492806e-01  3.60653311e-01\n",
      "  1.58247992e-01 -1.67655852e-02 -2.36479551e-01 -1.53410345e-01\n",
      " -1.58443436e-01  5.78477979e-04  2.10819602e-01 -4.42540720e-02\n",
      " -6.69548094e-01 -5.46408482e-02  9.37521383e-02 -2.87047792e-02\n",
      "  3.39932382e-01  9.29933861e-02 -5.06913587e-02 -1.14077732e-01\n",
      "  3.18691701e-01  4.36281443e-01  1.37716636e-01  3.42435807e-01\n",
      " -1.11426435e-01 -1.10895790e-01 -5.33225983e-02  1.65039822e-02\n",
      "  1.65285785e-02  2.95613170e-01  2.09602550e-01  8.95889997e-02\n",
      " -1.42673984e-01 -1.61824137e-01  2.20328152e-01  1.43815339e-01\n",
      " -1.64943010e-01 -3.80047970e-02  2.42347866e-01  2.46185392e-01\n",
      "  9.87830982e-02  1.07203657e-02 -1.39249712e-01  4.36948836e-01\n",
      " -1.16812915e-01  1.17464028e-01  9.10445303e-03  2.24976912e-02\n",
      " -6.33659810e-02  1.59978956e-01 -3.25191498e-01 -3.68036300e-01\n",
      " -1.90680727e-01 -1.68257549e-01 -2.66302705e-01 -3.32227707e-01\n",
      " -1.60689190e-01 -1.61910877e-01 -1.10227183e-01 -2.77181625e-01\n",
      " -2.85513490e-01  6.93065673e-03  1.78050622e-02  4.74831387e-02\n",
      " -4.09259275e-02  1.07984811e-01  6.60259128e-02 -1.10427253e-02\n",
      " -2.89588332e-01 -4.59645614e-02  2.85004973e-01 -2.13454813e-02\n",
      "  1.31375343e-03  5.68761975e-02  2.68919885e-01  1.82758749e-01\n",
      "  2.02422917e-01 -4.29922491e-02  9.47399363e-02  1.50729224e-01\n",
      " -2.79286839e-02 -6.27282187e-02 -6.66977391e-02 -2.40976080e-01\n",
      "  2.27288201e-01 -1.15204990e-01 -7.92641938e-02  3.07916962e-02\n",
      "  3.04522127e-01  9.42905486e-01  1.96313664e-01  2.67015576e-01\n",
      "  1.72183476e-02  1.16740108e-01  2.44996455e-02 -1.56179462e-02\n",
      "  2.09506098e-02  1.08369604e-01 -1.09164463e-02  4.84635755e-02\n",
      " -8.18039477e-02  6.00407571e-02  2.06199735e-01 -8.69559050e-02\n",
      " -3.10094282e-02 -3.22492510e-01 -5.83856590e-02  4.26701069e-01\n",
      " -1.74421981e-01  8.48223418e-02 -3.76209803e-02 -8.02557692e-02\n",
      "  3.60355318e-01  3.90093625e-02 -7.54823834e-02 -1.37151808e-01\n",
      " -1.39505431e-01  1.38030536e-02  3.40314433e-02 -4.71512750e-02\n",
      " -6.69412762e-02 -2.16762289e-01 -4.52763587e-02  1.89342592e-02\n",
      " -4.81568947e-02 -5.37168123e-02  2.95624971e-01  3.13178986e-01\n",
      "  4.23194379e-01  6.44637272e-02 -2.04405338e-02  2.88777113e-01\n",
      " -5.22009321e-02 -2.93020666e-01  2.64686257e-01  7.55581856e-02\n",
      " -5.72972149e-02 -2.56843865e-01  4.61755931e-01  4.90332022e-02\n",
      " -2.42584690e-01 -6.16375744e-01  1.13822840e-01  5.92239052e-02\n",
      "  1.34242643e-02  2.94644773e-01  2.61395872e-01 -2.30090976e-01\n",
      " -3.22678573e-02  4.01192963e-01 -4.34625819e-02 -2.02974573e-01\n",
      "  1.05417229e-01  4.17802893e-02 -1.94909006e-01 -2.16640711e-01\n",
      "  2.66542286e-01  3.71667266e-01 -4.36537527e-02  1.49447650e-01\n",
      "  2.14824393e-01 -1.57755166e-01 -3.26350898e-01 -2.92340428e-01\n",
      " -3.21477741e-01  7.73604959e-03  1.82269275e-01  2.92034537e-01\n",
      " -1.05707310e-01 -5.93909882e-02  1.56859644e-02  5.49998358e-02\n",
      " -9.37085375e-02 -2.88894564e-01 -1.15655065e-02 -1.55978352e-01\n",
      "  2.11177066e-01  4.22259830e-02  7.15631619e-02  3.61156404e-01\n",
      "  9.79936570e-02 -2.28520036e-01  2.89400339e-01 -5.51321030e-01\n",
      " -1.80279016e-01  8.02783221e-02  1.45348459e-01 -1.94468945e-02\n",
      " -3.36046249e-01 -2.63046563e-01 -2.32855573e-01  4.47346181e-01\n",
      "  1.00285374e-03 -1.34098858e-01 -4.94502157e-01 -1.38020944e-02\n",
      "  2.86031514e-02  1.92944258e-01 -2.66334027e-01  7.33991712e-02\n",
      "  6.20237142e-02  1.69136167e-01  2.20357791e-01 -8.18696767e-02\n",
      " -1.08983807e-01  1.19952112e-02 -1.05816871e-03  2.39913329e-01\n",
      "  4.95391339e-01  7.46292919e-02  7.29545355e-02 -1.28905028e-01\n",
      "  2.00838655e-01 -1.28312990e-01 -1.93263546e-01  2.44374070e-02\n",
      " -9.46105421e-02 -1.33458644e-01  8.79246742e-02 -6.68791980e-02\n",
      "  5.53141534e-03  4.32230741e-01  6.02884926e-02 -3.06439400e-01\n",
      " -3.79795507e-02 -1.10238351e-01 -7.88229257e-02  3.08600873e-01\n",
      " -4.89635952e-02 -9.80708450e-02  4.59653974e-01 -8.36869851e-02\n",
      "  1.53639406e-01 -1.73646256e-01 -1.71332061e-02 -3.98509502e-02\n",
      "  8.33876878e-02  7.47084320e-02 -2.09567741e-01  2.19467103e-01\n",
      "  4.56815884e-02  1.32913545e-01 -9.67712179e-02  5.64527586e-02\n",
      "  1.40829340e-01  2.85429448e-01  1.14138000e-01 -8.22422579e-02\n",
      "  2.71768004e-01  1.27424657e-01 -5.49928769e-02  2.04674840e-01\n",
      "  2.03207925e-01 -2.52197683e-01  2.30028763e-01  4.33009230e-02\n",
      " -2.91587055e-01 -1.08487874e-01 -1.99625641e-02 -1.45952061e-01\n",
      "  1.07523710e-01 -1.17394179e-02  5.42165786e-02  1.66659877e-01\n",
      " -1.32789329e-01  2.72386163e-01  3.88015628e-01  9.57845449e-02\n",
      " -5.43925762e-02 -3.57041091e-01 -1.74470395e-01  2.12007940e-01\n",
      " -5.09174094e-02 -8.50986689e-03 -9.71746296e-02  1.75705716e-01\n",
      "  2.31706709e-01  3.16641219e-02  2.05831781e-01  5.60085654e-01\n",
      "  5.35773076e-02  6.33180141e-03  1.37657806e-01  8.03259239e-02\n",
      "  5.30114830e-01 -6.43166602e-02 -2.08474278e-01 -3.88880968e-01\n",
      " -4.41022255e-02  1.20835319e-01 -4.89556670e-01  3.86565834e-01\n",
      "  1.06755063e-01 -1.37742817e-01 -1.64346427e-01  1.71730921e-01\n",
      " -3.94227579e-02  3.38305682e-02 -4.04018730e-01  4.67059880e-01\n",
      " -4.09532636e-01 -1.57721758e-01  1.53452486e-01  1.54147029e-01\n",
      "  3.24628145e-01  3.91361207e-01  7.74709210e-02 -7.20697492e-02\n",
      "  2.03520760e-01  3.36968660e-01 -3.59357148e-01 -5.60233369e-03\n",
      " -2.78790444e-02 -2.48926252e-01 -8.95801373e-03  1.71183124e-02\n",
      "  1.82921186e-01 -2.42385752e-02  7.36833960e-02  3.38602066e-01\n",
      "  2.72155195e-01 -9.18170214e-02 -5.08204103e-04  2.28302449e-01\n",
      "  2.91659117e-01  2.64585912e-01 -9.48063657e-03 -1.35947898e-01\n",
      " -7.47904256e-02 -9.78933945e-02 -5.60005307e-02  5.24458289e-03\n",
      "  2.00059533e-01 -2.62548447e-01 -5.79236522e-02 -2.79163301e-01\n",
      "  5.78197278e-02  3.75612319e-01 -1.21311456e-01 -4.11672145e-03\n",
      " -1.73851609e-01 -2.22778730e-02  6.16434552e-02  3.02438319e-01\n",
      " -1.64166436e-01 -1.25645161e-01 -1.97549626e-01  2.91434228e-01\n",
      "  9.78188962e-02 -4.18422744e-02  3.57913598e-02 -1.50503069e-01\n",
      " -1.91155300e-01  2.16885194e-01  2.16934964e-01  1.20420337e-01\n",
      " -5.78121617e-02 -2.62640327e-01 -1.11185377e-02 -2.52344161e-01\n",
      " -9.46079046e-02  1.85794532e-01  1.80370621e-02 -9.29107964e-02\n",
      "  1.47564903e-01 -2.39916220e-02 -9.84894037e-02 -1.27554327e-01\n",
      "  1.42230699e-02  6.99739307e-02  1.39464825e-01  2.72612236e-02\n",
      " -9.34535339e-02 -2.49304116e-01  2.67843395e-01 -1.30059272e-01\n",
      "  1.94177330e-01 -2.42460072e-01 -1.90668151e-01  1.20997727e-02\n",
      "  2.31467545e-01 -9.32321325e-02 -7.51864538e-02 -6.48491830e-02\n",
      "  9.00641605e-02 -4.44490388e-02 -1.20988742e-01 -1.33144438e-01\n",
      "  1.24386862e-01 -2.88088351e-01 -2.76193857e-01 -1.18774146e-01\n",
      "  7.00647980e-02 -1.66287512e-01 -2.56191462e-01 -1.51635915e-01]\n"
     ]
    },
    {
     "data": {
      "text/plain": [
       "(137, 768)"
      ]
     },
     "execution_count": 145,
     "metadata": {},
     "output_type": "execute_result"
    }
   ],
   "source": [
    "# 1 column for all rows\n",
    "print(len(embedding_arr[:,1]))\n",
    "\n",
    "\n",
    "# 1 row for all columns\n",
    "print(embedding_arr[0])\n",
    "\n",
    "embedding_arr.shape\n"
   ]
  },
  {
   "cell_type": "code",
   "execution_count": 146,
   "id": "596f659d",
   "metadata": {},
   "outputs": [
    {
     "name": "stdout",
     "output_type": "stream",
     "text": [
      "[[ 0.01795088  0.05634568 -0.04357697 ... -0.09881878  0.03439683\n",
      "  -0.02163488]\n",
      " [-0.01571924  0.08833206 -0.03494741 ... -0.07740968 -0.05103115\n",
      "  -0.007313  ]\n",
      " [ 0.07857412  0.01176622  0.05849238 ...  0.02323207 -0.0396411\n",
      "   0.01533789]\n",
      " ...\n",
      " [-0.01782705 -0.00337126  0.03826381 ...  0.02836143  0.08206018\n",
      "   0.01634091]\n",
      " [-0.01833171 -0.04946456  0.00775069 ... -0.02741444 -0.04327692\n",
      "   0.10167596]\n",
      " [ 0.02797536 -0.035756    0.03497365 ... -0.06601121 -0.01123385\n",
      "  -0.02856237]]\n"
     ]
    }
   ],
   "source": [
    "print(query_embedding_dict['all-MiniLM-L6-v2'])"
   ]
  },
  {
   "cell_type": "code",
   "execution_count": 147,
   "id": "c424e90f",
   "metadata": {},
   "outputs": [],
   "source": [
    "def returnVideoID_index(df: pl.dataframe.frame.DataFrame, df_eval: pl.dataframe.frame.DataFrame,query_n:int) -> int:\n",
    "    # to get the index in the original dataset where one of the 137 eval videos is \n",
    "    return [i for i in range(len(df)) if df['video_id'][i] == df_eval['video_id'][query_n]][0]"
   ]
  },
  {
   "cell_type": "code",
   "execution_count": 148,
   "id": "cd881cf3",
   "metadata": {},
   "outputs": [],
   "source": [
    "def evalTrueRankings(dist_arr_isorted:np.ndarray, df:pl.dataframe.frame.DataFrame, df_eval: pl.dataframe.frame.DataFrame) -> np.ndarray:\n",
    "    # intialize array to store rankings of \"correct\" search result\n",
    "    # shape of 1 row and number of queries columns - 137\n",
    "    true_rank_arr = np.empty((1, dist_arr_isorted.shape[1]))\n",
    "\n",
    "    for query_n in range(dist_arr_isorted.shape[1]): #0-137\n",
    "\n",
    "        # we get the index of the eval video in original data set\n",
    "        video_id_idx = returnVideoID_index(df, df_eval, query_n)\n",
    "        # take the entire column query_n (0-137 columns), and look at each row, \n",
    "        # until you get the original video that matches the video_id_idx\n",
    "        # this index tells us its ranking\n",
    "        # because rows are rankings and column is one query - so we are looking for video_id_idx in that column\n",
    "        # good algorithm will rank it in top 3 as that is the ground truth value for query\n",
    "        # meaning it is a query with same video_id as the video from df (og dataframe)\n",
    "\n",
    "        true_rank = np.argwhere(dist_arr_isorted[:, query_n] == video_id_idx)[0][0]\n",
    "        #dist_arr_isorted[:, query_n] == video_id_idx creates a boolean array\n",
    "        # [False, False, False, ..., True, ..., False]\n",
    "        # np.argwhere returns [[True_idx]], so we need [0][0] to get that idx\n",
    "\n",
    "        # 1 row with 137 columns - true_rank_arr = [[0, 4, 12, 1, 5, ...]]\n",
    "        # true_rank_arr[0, 0] = 0 → for query 0, the correct video was ranked 1st\n",
    "\n",
    "        # true_rank_arr[0, 1] = 4 → for query 1, the correct video was ranked 5th\n",
    "\n",
    "        # true_rank_arr[0, 2] = 12 → for query 2, correct video ranked 13th\n",
    "\n",
    "        # true_rank_arr[0, 3] = 1 → 2nd best match\n",
    "\n",
    "        # true_rank_arr[0, 4] = 5 → 6th best match\n",
    "\n",
    "        true_rank_arr[0,query_n] = true_rank\n",
    "\n",
    "\n",
    "    return true_rank_arr\n",
    "\n",
    "\n"
   ]
  },
  {
   "cell_type": "code",
   "execution_count": 149,
   "id": "d993f20c",
   "metadata": {},
   "outputs": [],
   "source": [
    "dist_name_list = ['euclidean', 'manhattan', 'chebyshev']\n",
    "sim_name_list = ['cos_sim', 'dot_score']"
   ]
  },
  {
   "cell_type": "code",
   "execution_count": 150,
   "id": "84004d9a",
   "metadata": {},
   "outputs": [
    {
     "data": {
      "text/plain": [
       "numpy.ndarray"
      ]
     },
     "execution_count": 150,
     "metadata": {},
     "output_type": "execute_result"
    }
   ],
   "source": [
    "type(query_embedding_dict[model_name])"
   ]
  },
  {
   "cell_type": "code",
   "execution_count": 159,
   "id": "8a265141",
   "metadata": {},
   "outputs": [],
   "source": [
    "# evaluate all possible combinations of model, columns to embed and distance metrics\n",
    "\n",
    "eval_results = []\n",
    "# loop through all the models\n",
    "for model_name in model_name_list:\n",
    "    # since models are keys, we get the values of embeddings for queries (Eval data)\n",
    "\n",
    "\n",
    "    # we know what value represents what index because model.encode()\n",
    "    # returns the embeddings in the same order 0-217\n",
    "    query_embedding = query_embedding_dict[model_name]\n",
    "\n",
    "    # loop through text columns \n",
    "    for column_name in column_to_embed_list:\n",
    "        \n",
    "        # generate column embedding for each of 6 versions\n",
    "        embedding_arr = text_embedding_dict[model_name + \"_\" + column_name]\n",
    "\n",
    "        # comparing the distance between query and video text(transcript or title)\n",
    "        for dist_name in dist_name_list:\n",
    "            dist = DistanceMetric.get_metric(dist_name)\n",
    "            #compare video text (transcript or title embeddings) to eval data (queries)\n",
    "            dist_arr = dist.pairwise(embedding_arr, query_embedding)\n",
    "\n",
    "            # sort the indicies of distance array\n",
    "            dist_arr_isorted = np.argsort(dist_arr,axis=0)\n",
    "\n",
    "            # define lable for search method\n",
    "            method_name = \"_\".join([model_name, column_name, dist_name])\n",
    "\n",
    "            # evalute the ranking based on the ground truth (queries)\n",
    "            true_rank_arr = evalTrueRankings(dist_arr_isorted, df, df_eval)\n",
    "            \n",
    "\n",
    "            eval_list = [method_name] + true_rank_arr.tolist()[0]\n",
    "            eval_results.append(eval_list)\n",
    "\n",
    "\n",
    "        \n",
    "# print(true_rank_arr)\n",
    "      \n",
    "# distance between 0th video and all queries\n",
    "# print(dist_arr[0])\n",
    "\n",
    "# distance between 0th video and 0th query\n",
    "# print(dist_arr[0][0])\n",
    "\n",
    "# print(dist_arr_isorted[:,0]) # grabs all the rows with their's first column\n",
    "# print(dist_arr_isorted[0]) # grabs the entire row with all its columns\n",
    "\n",
    "# very important - this is rank vs query matrix, so in entire dist_arr_isorted we get 217 rows and 137 columns\n",
    "# each first row value is video index for that query for given rank (rank being the row)\n",
    "# print(dist_arr_isorted)\n",
    "# print(dist_arr_isorted[0])\n",
    "# print(dist_arr_isorted[1])\n",
    "# print(dist_arr_isorted[2])\n",
    "\n",
    "\n",
    "        for sim_name in sim_name_list:\n",
    "            # apply similarity score from sbert\n",
    "            # - of similarty score, bcs similarty score will be large unliike for distance score\n",
    "            # so reverse the order\n",
    "            cmd = \"dist_arr = -util.\" + sim_name + \"(embedding_arr, query_embedding)\"\n",
    "            exec(cmd)\n",
    "    \n",
    "            # sort indexes of distance array (notice minus sign in front of cosine similarity)\n",
    "            dist_arr_isorted = np.argsort(dist_arr, axis=0)\n",
    "    \n",
    "            # define label for search method\n",
    "            method_name = \"_\".join([model_name, column_name, sim_name.replace(\"_\",\"-\")])\n",
    "    \n",
    "            # evaluate the ranking of the ground truth\n",
    "            true_rank_arr = evalTrueRankings(dist_arr_isorted, df, df_eval)\n",
    "    \n",
    "            # store results\n",
    "            eval_list = [method_name] + true_rank_arr.tolist()[0]\n",
    "            eval_results.append(eval_list)"
   ]
  },
  {
   "cell_type": "code",
   "execution_count": 160,
   "id": "8e29ad4b",
   "metadata": {},
   "outputs": [],
   "source": [
    "# eval result contains all the rankings for each model, where each sublist is eval list containg ranking of ground truth for each\n",
    "# query, we only care about what we thought ranks first vs what really ranks first - bcs dist_arr_isorted is ranked by indecies so we know\n",
    "# how much we are off\n"
   ]
  },
  {
   "cell_type": "markdown",
   "id": "9873c823",
   "metadata": {},
   "source": [
    "###  Explanation of `dist_arr_isorted` Matrix (Shape: [217, 137])\n",
    "\n",
    "After computing the pairwise distance between all video embeddings  \n",
    "(from the full dataset, shape [217, 768]) and all query embeddings  \n",
    "(from the eval dataset, shape [137, 768]), we get a distance matrix:\n",
    "\n",
    "    dist_arr.shape = (217 videos, 137 queries)\n",
    "\n",
    "Each value `dist_arr[i, j]` represents the distance between video `i`  \n",
    "and query `j` — lower means more similar.\n",
    "\n",
    "We then sort these distances along axis=0 (i.e., for each query)  \n",
    "to get the ranked list of videos for every query:\n",
    "\n",
    "    dist_arr_isorted = np.argsort(dist_arr, axis=0)\n",
    "\n",
    "The result:  \n",
    "- Shape: [217, 137]  \n",
    "- Each COLUMN `j` corresponds to a single query `j`  \n",
    "- Each column contains 217 video indices from the dataset  \n",
    "- These indices are sorted in order of increasing distance  \n",
    "  → i.e., the most relevant (closest) video is at the top of each column\n",
    "\n",
    "So: `dist_arr_isorted[:, j]` gives you the ranked list of video indices  \n",
    "for query `j` — from best match to worst.\n",
    "\n",
    "This sorted array is then used to determine how well each method performed  \n",
    "by checking where the correct video (the one that query `j` originally came from)  \n",
    "appears in this ranking — done using `evalTrueRankings()`.\n",
    "\n",
    "And now we want to find where that query is ranked in original dataset.  \n",
    "Thus, we can go back to each column and search for that index  \n",
    "to get how well it ranked the ground truth (itself).\n"
   ]
  },
  {
   "cell_type": "markdown",
   "id": "827e096c",
   "metadata": {},
   "source": [
    "####\n",
    "\n",
    "The `dist_arr_isorted` matrix has shape `(num_videos, num_eval_queries)`, e.g. `(217, 137)`.  \n",
    "Each **column** corresponds to one evaluation query from `df_eval`.  \n",
    "Each **row** corresponds to a **rank position** (`0 = best match`, `1 = second-best`, ..., `216 = worst`).\n",
    "\n",
    "---\n",
    "\n",
    "- `dist_arr_isorted[r, c]` → index of the video (from `df`) ranked at position `r` for eval query `c`.\n",
    "\n",
    "So:\n",
    "\n",
    "- `dist_arr_isorted[0, c]` → best match (most similar video) for eval query `c`  \n",
    "- `dist_arr_isorted[1, c]` → 2nd best match for eval query `c`  \n",
    "- `dist_arr_isorted[:, c]` → full ranked list of video indices for query `c`  \n",
    "\n",
    "This allows us to **evaluate the model's performance** by checking where the **ground-truth video** (from `df_eval`) appears in this ranked list.\n",
    "\n",
    "---\n",
    "\n",
    "#### Visualization:\n",
    "\n",
    "| Rank | `query_0` | `query_1` | `query_2` |\n",
    "|------|-----------|-----------|-----------|\n",
    "| 0    | 12        | 5         | 9         |\n",
    "| 1    | 34        | 12        | 3         |\n",
    "| 2    | 98        | 34        | 21        |\n",
    "| ...  | ...       | ...       | ...       |\n",
    "\n",
    "Each **cell** holds a video index from the original dataset (`df`) indicating its position in the similarity ranking.\n",
    "\n"
   ]
  },
  {
   "cell_type": "code",
   "execution_count": 161,
   "id": "784e4032",
   "metadata": {},
   "outputs": [],
   "source": [
    "# Embed both title and transcripts and combine results\n",
    "for model_name in model_name_list:\n",
    "    # generate embeddings (extracting)\n",
    "    embedding_arr1 = text_embedding_dict[model_name + \"_transcript\"]\n",
    "    embedding_arr2 = text_embedding_dict[model_name + \"_title\"]\n",
    "    query_embedding = query_embedding_dict[model_name]\n",
    "\n",
    "    # loop through distance methods\n",
    "    for dist_name in dist_name_list:\n",
    "        # compute distance between text and query\n",
    "        dist = DistanceMetric.get_metric(dist_name)\n",
    "        dist_arr = dist.pairwise(embedding_arr1,query_embedding) + dist.pairwise(embedding_arr2,query_embedding)\n",
    "\n",
    "        dist_arr_isorted = np.argsort(dist_arr, axis=0)\n",
    "\n",
    "        # define label for search method\n",
    "        method_name = '_'.join([model_name,'title-transcript',dist_name])\n",
    "\n",
    "        # evaluate the true ranking of ground truth\n",
    "        true_rank_arr = evalTrueRankings(dist_arr_isorted, df, df_eval)\n",
    "\n",
    "        eval_list = [method_name] + true_rank_arr.tolist()[0]\n",
    "        eval_results.append(eval_list)\n",
    "\n",
    "    for sim_name in sim_name_list:\n",
    "\n",
    "        cmd = 'dist_arr = -util.' + sim_name + '(embedding_arr1, query_embedding) - util.' + sim_name + \"(embedding_arr2, query_embedding)\"\n",
    "        exec(cmd)\n",
    "\n",
    "        dist_arr_isorted = np.argsort(dist_arr,axis=0)\n",
    "\n",
    "        method_name = \"_\".join([model_name,\"title-transcript\",sim_name.replace('_',\"-\")])\n",
    "\n",
    "        true_rank_arr = evalTrueRankings(dist_arr_isorted, df,df_eval)\n",
    "\n",
    "        eval_list = [method_name] + true_rank_arr.tolist()[0]\n",
    "        eval_results.append(eval_list)"
   ]
  },
  {
   "cell_type": "code",
   "execution_count": 162,
   "id": "5ecf4fe7",
   "metadata": {},
   "outputs": [
    {
     "data": {
      "text/plain": [
       "45"
      ]
     },
     "execution_count": 162,
     "metadata": {},
     "output_type": "execute_result"
    }
   ],
   "source": [
    "len(eval_results)\n",
    "\n",
    "# do this # Embed both title and transcripts and combine results"
   ]
  },
  {
   "cell_type": "code",
   "execution_count": 163,
   "id": "c66b3097",
   "metadata": {},
   "outputs": [
    {
     "name": "stdout",
     "output_type": "stream",
     "text": [
      "{'method_name': <class 'str'>, 'rank_query-0': <class 'float'>, 'rank_query-1': <class 'float'>, 'rank_query-2': <class 'float'>, 'rank_query-3': <class 'float'>, 'rank_query-4': <class 'float'>, 'rank_query-5': <class 'float'>, 'rank_query-6': <class 'float'>, 'rank_query-7': <class 'float'>, 'rank_query-8': <class 'float'>, 'rank_query-9': <class 'float'>, 'rank_query-10': <class 'float'>, 'rank_query-11': <class 'float'>, 'rank_query-12': <class 'float'>, 'rank_query-13': <class 'float'>, 'rank_query-14': <class 'float'>, 'rank_query-15': <class 'float'>, 'rank_query-16': <class 'float'>, 'rank_query-17': <class 'float'>, 'rank_query-18': <class 'float'>, 'rank_query-19': <class 'float'>, 'rank_query-20': <class 'float'>, 'rank_query-21': <class 'float'>, 'rank_query-22': <class 'float'>, 'rank_query-23': <class 'float'>, 'rank_query-24': <class 'float'>, 'rank_query-25': <class 'float'>, 'rank_query-26': <class 'float'>, 'rank_query-27': <class 'float'>, 'rank_query-28': <class 'float'>, 'rank_query-29': <class 'float'>, 'rank_query-30': <class 'float'>, 'rank_query-31': <class 'float'>, 'rank_query-32': <class 'float'>, 'rank_query-33': <class 'float'>, 'rank_query-34': <class 'float'>, 'rank_query-35': <class 'float'>, 'rank_query-36': <class 'float'>, 'rank_query-37': <class 'float'>, 'rank_query-38': <class 'float'>, 'rank_query-39': <class 'float'>, 'rank_query-40': <class 'float'>, 'rank_query-41': <class 'float'>, 'rank_query-42': <class 'float'>, 'rank_query-43': <class 'float'>, 'rank_query-44': <class 'float'>, 'rank_query-45': <class 'float'>, 'rank_query-46': <class 'float'>, 'rank_query-47': <class 'float'>, 'rank_query-48': <class 'float'>, 'rank_query-49': <class 'float'>, 'rank_query-50': <class 'float'>, 'rank_query-51': <class 'float'>, 'rank_query-52': <class 'float'>, 'rank_query-53': <class 'float'>, 'rank_query-54': <class 'float'>, 'rank_query-55': <class 'float'>, 'rank_query-56': <class 'float'>, 'rank_query-57': <class 'float'>, 'rank_query-58': <class 'float'>, 'rank_query-59': <class 'float'>, 'rank_query-60': <class 'float'>, 'rank_query-61': <class 'float'>, 'rank_query-62': <class 'float'>, 'rank_query-63': <class 'float'>, 'rank_query-64': <class 'float'>, 'rank_query-65': <class 'float'>, 'rank_query-66': <class 'float'>, 'rank_query-67': <class 'float'>, 'rank_query-68': <class 'float'>, 'rank_query-69': <class 'float'>, 'rank_query-70': <class 'float'>, 'rank_query-71': <class 'float'>, 'rank_query-72': <class 'float'>, 'rank_query-73': <class 'float'>, 'rank_query-74': <class 'float'>, 'rank_query-75': <class 'float'>, 'rank_query-76': <class 'float'>, 'rank_query-77': <class 'float'>, 'rank_query-78': <class 'float'>, 'rank_query-79': <class 'float'>, 'rank_query-80': <class 'float'>, 'rank_query-81': <class 'float'>, 'rank_query-82': <class 'float'>, 'rank_query-83': <class 'float'>, 'rank_query-84': <class 'float'>, 'rank_query-85': <class 'float'>, 'rank_query-86': <class 'float'>, 'rank_query-87': <class 'float'>, 'rank_query-88': <class 'float'>, 'rank_query-89': <class 'float'>, 'rank_query-90': <class 'float'>, 'rank_query-91': <class 'float'>, 'rank_query-92': <class 'float'>, 'rank_query-93': <class 'float'>, 'rank_query-94': <class 'float'>, 'rank_query-95': <class 'float'>, 'rank_query-96': <class 'float'>, 'rank_query-97': <class 'float'>, 'rank_query-98': <class 'float'>, 'rank_query-99': <class 'float'>, 'rank_query-100': <class 'float'>, 'rank_query-101': <class 'float'>, 'rank_query-102': <class 'float'>, 'rank_query-103': <class 'float'>, 'rank_query-104': <class 'float'>, 'rank_query-105': <class 'float'>, 'rank_query-106': <class 'float'>, 'rank_query-107': <class 'float'>, 'rank_query-108': <class 'float'>, 'rank_query-109': <class 'float'>, 'rank_query-110': <class 'float'>, 'rank_query-111': <class 'float'>, 'rank_query-112': <class 'float'>, 'rank_query-113': <class 'float'>, 'rank_query-114': <class 'float'>, 'rank_query-115': <class 'float'>, 'rank_query-116': <class 'float'>, 'rank_query-117': <class 'float'>, 'rank_query-118': <class 'float'>, 'rank_query-119': <class 'float'>, 'rank_query-120': <class 'float'>, 'rank_query-121': <class 'float'>, 'rank_query-122': <class 'float'>, 'rank_query-123': <class 'float'>, 'rank_query-124': <class 'float'>, 'rank_query-125': <class 'float'>, 'rank_query-126': <class 'float'>, 'rank_query-127': <class 'float'>, 'rank_query-128': <class 'float'>, 'rank_query-129': <class 'float'>, 'rank_query-130': <class 'float'>, 'rank_query-131': <class 'float'>, 'rank_query-132': <class 'float'>, 'rank_query-133': <class 'float'>, 'rank_query-134': <class 'float'>, 'rank_query-135': <class 'float'>, 'rank_query-136': <class 'float'>}\n"
     ]
    },
    {
     "name": "stderr",
     "output_type": "stream",
     "text": [
      "/opt/homebrew/anaconda3/envs/ml-env/lib/python3.10/functools.py:889: DataOrientationWarning: Row orientation inferred during DataFrame construction. Explicitly specify the orientation by passing `orient=\"row\"` to silence this warning.\n",
      "  return dispatch(args[0].__class__)(*args, **kw)\n"
     ]
    },
    {
     "data": {
      "text/html": [
       "<div><style>\n",
       ".dataframe > thead > tr,\n",
       ".dataframe > tbody > tr {\n",
       "  text-align: right;\n",
       "  white-space: pre-wrap;\n",
       "}\n",
       "</style>\n",
       "<small>shape: (5, 138)</small><table border=\"1\" class=\"dataframe\"><thead><tr><th>method_name</th><th>rank_query-0</th><th>rank_query-1</th><th>rank_query-2</th><th>rank_query-3</th><th>rank_query-4</th><th>rank_query-5</th><th>rank_query-6</th><th>rank_query-7</th><th>rank_query-8</th><th>rank_query-9</th><th>rank_query-10</th><th>rank_query-11</th><th>rank_query-12</th><th>rank_query-13</th><th>rank_query-14</th><th>rank_query-15</th><th>rank_query-16</th><th>rank_query-17</th><th>rank_query-18</th><th>rank_query-19</th><th>rank_query-20</th><th>rank_query-21</th><th>rank_query-22</th><th>rank_query-23</th><th>rank_query-24</th><th>rank_query-25</th><th>rank_query-26</th><th>rank_query-27</th><th>rank_query-28</th><th>rank_query-29</th><th>rank_query-30</th><th>rank_query-31</th><th>rank_query-32</th><th>rank_query-33</th><th>rank_query-34</th><th>rank_query-35</th><th>&hellip;</th><th>rank_query-100</th><th>rank_query-101</th><th>rank_query-102</th><th>rank_query-103</th><th>rank_query-104</th><th>rank_query-105</th><th>rank_query-106</th><th>rank_query-107</th><th>rank_query-108</th><th>rank_query-109</th><th>rank_query-110</th><th>rank_query-111</th><th>rank_query-112</th><th>rank_query-113</th><th>rank_query-114</th><th>rank_query-115</th><th>rank_query-116</th><th>rank_query-117</th><th>rank_query-118</th><th>rank_query-119</th><th>rank_query-120</th><th>rank_query-121</th><th>rank_query-122</th><th>rank_query-123</th><th>rank_query-124</th><th>rank_query-125</th><th>rank_query-126</th><th>rank_query-127</th><th>rank_query-128</th><th>rank_query-129</th><th>rank_query-130</th><th>rank_query-131</th><th>rank_query-132</th><th>rank_query-133</th><th>rank_query-134</th><th>rank_query-135</th><th>rank_query-136</th></tr><tr><td>str</td><td>f64</td><td>f64</td><td>f64</td><td>f64</td><td>f64</td><td>f64</td><td>f64</td><td>f64</td><td>f64</td><td>f64</td><td>f64</td><td>f64</td><td>f64</td><td>f64</td><td>f64</td><td>f64</td><td>f64</td><td>f64</td><td>f64</td><td>f64</td><td>f64</td><td>f64</td><td>f64</td><td>f64</td><td>f64</td><td>f64</td><td>f64</td><td>f64</td><td>f64</td><td>f64</td><td>f64</td><td>f64</td><td>f64</td><td>f64</td><td>f64</td><td>f64</td><td>&hellip;</td><td>f64</td><td>f64</td><td>f64</td><td>f64</td><td>f64</td><td>f64</td><td>f64</td><td>f64</td><td>f64</td><td>f64</td><td>f64</td><td>f64</td><td>f64</td><td>f64</td><td>f64</td><td>f64</td><td>f64</td><td>f64</td><td>f64</td><td>f64</td><td>f64</td><td>f64</td><td>f64</td><td>f64</td><td>f64</td><td>f64</td><td>f64</td><td>f64</td><td>f64</td><td>f64</td><td>f64</td><td>f64</td><td>f64</td><td>f64</td><td>f64</td><td>f64</td><td>f64</td></tr></thead><tbody><tr><td>&quot;all-MiniLM-L6-v2_title_euclide…</td><td>0.0</td><td>0.0</td><td>0.0</td><td>0.0</td><td>0.0</td><td>0.0</td><td>1.0</td><td>0.0</td><td>0.0</td><td>0.0</td><td>0.0</td><td>0.0</td><td>0.0</td><td>0.0</td><td>0.0</td><td>0.0</td><td>0.0</td><td>0.0</td><td>0.0</td><td>0.0</td><td>0.0</td><td>0.0</td><td>0.0</td><td>0.0</td><td>0.0</td><td>0.0</td><td>0.0</td><td>0.0</td><td>0.0</td><td>3.0</td><td>0.0</td><td>0.0</td><td>0.0</td><td>0.0</td><td>0.0</td><td>0.0</td><td>&hellip;</td><td>126.0</td><td>0.0</td><td>0.0</td><td>0.0</td><td>0.0</td><td>0.0</td><td>2.0</td><td>1.0</td><td>0.0</td><td>7.0</td><td>0.0</td><td>0.0</td><td>0.0</td><td>0.0</td><td>0.0</td><td>0.0</td><td>0.0</td><td>0.0</td><td>0.0</td><td>0.0</td><td>5.0</td><td>0.0</td><td>0.0</td><td>0.0</td><td>0.0</td><td>0.0</td><td>0.0</td><td>0.0</td><td>0.0</td><td>0.0</td><td>0.0</td><td>0.0</td><td>0.0</td><td>0.0</td><td>0.0</td><td>0.0</td><td>0.0</td></tr><tr><td>&quot;all-MiniLM-L6-v2_title_manhatt…</td><td>0.0</td><td>0.0</td><td>0.0</td><td>0.0</td><td>0.0</td><td>0.0</td><td>1.0</td><td>0.0</td><td>0.0</td><td>0.0</td><td>0.0</td><td>0.0</td><td>0.0</td><td>0.0</td><td>0.0</td><td>0.0</td><td>0.0</td><td>0.0</td><td>0.0</td><td>0.0</td><td>0.0</td><td>0.0</td><td>0.0</td><td>0.0</td><td>0.0</td><td>0.0</td><td>0.0</td><td>0.0</td><td>0.0</td><td>3.0</td><td>0.0</td><td>0.0</td><td>0.0</td><td>0.0</td><td>0.0</td><td>0.0</td><td>&hellip;</td><td>131.0</td><td>0.0</td><td>0.0</td><td>0.0</td><td>0.0</td><td>0.0</td><td>1.0</td><td>1.0</td><td>0.0</td><td>6.0</td><td>0.0</td><td>0.0</td><td>0.0</td><td>0.0</td><td>0.0</td><td>0.0</td><td>0.0</td><td>0.0</td><td>0.0</td><td>0.0</td><td>5.0</td><td>0.0</td><td>0.0</td><td>0.0</td><td>0.0</td><td>0.0</td><td>0.0</td><td>0.0</td><td>0.0</td><td>0.0</td><td>0.0</td><td>0.0</td><td>0.0</td><td>0.0</td><td>0.0</td><td>0.0</td><td>0.0</td></tr><tr><td>&quot;all-MiniLM-L6-v2_title_chebysh…</td><td>0.0</td><td>27.0</td><td>0.0</td><td>0.0</td><td>0.0</td><td>0.0</td><td>12.0</td><td>0.0</td><td>0.0</td><td>0.0</td><td>0.0</td><td>0.0</td><td>0.0</td><td>0.0</td><td>1.0</td><td>9.0</td><td>0.0</td><td>0.0</td><td>0.0</td><td>0.0</td><td>0.0</td><td>0.0</td><td>0.0</td><td>0.0</td><td>0.0</td><td>0.0</td><td>0.0</td><td>0.0</td><td>0.0</td><td>38.0</td><td>0.0</td><td>0.0</td><td>0.0</td><td>0.0</td><td>0.0</td><td>137.0</td><td>&hellip;</td><td>76.0</td><td>0.0</td><td>0.0</td><td>0.0</td><td>0.0</td><td>103.0</td><td>9.0</td><td>6.0</td><td>0.0</td><td>8.0</td><td>0.0</td><td>0.0</td><td>0.0</td><td>1.0</td><td>0.0</td><td>3.0</td><td>0.0</td><td>51.0</td><td>0.0</td><td>3.0</td><td>9.0</td><td>0.0</td><td>0.0</td><td>6.0</td><td>0.0</td><td>0.0</td><td>0.0</td><td>0.0</td><td>0.0</td><td>0.0</td><td>0.0</td><td>0.0</td><td>0.0</td><td>0.0</td><td>0.0</td><td>5.0</td><td>5.0</td></tr><tr><td>&quot;all-MiniLM-L6-v2_title_cos-sim&quot;</td><td>0.0</td><td>0.0</td><td>0.0</td><td>0.0</td><td>0.0</td><td>0.0</td><td>1.0</td><td>0.0</td><td>0.0</td><td>0.0</td><td>0.0</td><td>0.0</td><td>0.0</td><td>0.0</td><td>0.0</td><td>0.0</td><td>0.0</td><td>0.0</td><td>0.0</td><td>0.0</td><td>0.0</td><td>0.0</td><td>0.0</td><td>0.0</td><td>0.0</td><td>0.0</td><td>0.0</td><td>0.0</td><td>0.0</td><td>3.0</td><td>0.0</td><td>0.0</td><td>0.0</td><td>0.0</td><td>0.0</td><td>0.0</td><td>&hellip;</td><td>126.0</td><td>0.0</td><td>0.0</td><td>0.0</td><td>0.0</td><td>0.0</td><td>2.0</td><td>1.0</td><td>0.0</td><td>7.0</td><td>0.0</td><td>0.0</td><td>0.0</td><td>0.0</td><td>0.0</td><td>0.0</td><td>0.0</td><td>0.0</td><td>0.0</td><td>0.0</td><td>5.0</td><td>0.0</td><td>0.0</td><td>0.0</td><td>0.0</td><td>0.0</td><td>0.0</td><td>0.0</td><td>0.0</td><td>0.0</td><td>0.0</td><td>0.0</td><td>0.0</td><td>0.0</td><td>0.0</td><td>0.0</td><td>0.0</td></tr><tr><td>&quot;all-MiniLM-L6-v2_title_dot-sco…</td><td>0.0</td><td>0.0</td><td>0.0</td><td>0.0</td><td>0.0</td><td>0.0</td><td>1.0</td><td>0.0</td><td>0.0</td><td>0.0</td><td>0.0</td><td>0.0</td><td>0.0</td><td>0.0</td><td>0.0</td><td>0.0</td><td>0.0</td><td>0.0</td><td>0.0</td><td>0.0</td><td>0.0</td><td>0.0</td><td>0.0</td><td>0.0</td><td>0.0</td><td>0.0</td><td>0.0</td><td>0.0</td><td>0.0</td><td>3.0</td><td>0.0</td><td>0.0</td><td>0.0</td><td>0.0</td><td>0.0</td><td>0.0</td><td>&hellip;</td><td>126.0</td><td>0.0</td><td>0.0</td><td>0.0</td><td>0.0</td><td>0.0</td><td>2.0</td><td>1.0</td><td>0.0</td><td>7.0</td><td>0.0</td><td>0.0</td><td>0.0</td><td>0.0</td><td>0.0</td><td>0.0</td><td>0.0</td><td>0.0</td><td>0.0</td><td>0.0</td><td>5.0</td><td>0.0</td><td>0.0</td><td>0.0</td><td>0.0</td><td>0.0</td><td>0.0</td><td>0.0</td><td>0.0</td><td>0.0</td><td>0.0</td><td>0.0</td><td>0.0</td><td>0.0</td><td>0.0</td><td>0.0</td><td>0.0</td></tr></tbody></table></div>"
      ],
      "text/plain": [
       "shape: (5, 138)\n",
       "┌───────────┬───────────┬───────────┬───────────┬───┬───────────┬───────────┬───────────┬──────────┐\n",
       "│ method_na ┆ rank_quer ┆ rank_quer ┆ rank_quer ┆ … ┆ rank_quer ┆ rank_quer ┆ rank_quer ┆ rank_que │\n",
       "│ me        ┆ y-0       ┆ y-1       ┆ y-2       ┆   ┆ y-133     ┆ y-134     ┆ y-135     ┆ ry-136   │\n",
       "│ ---       ┆ ---       ┆ ---       ┆ ---       ┆   ┆ ---       ┆ ---       ┆ ---       ┆ ---      │\n",
       "│ str       ┆ f64       ┆ f64       ┆ f64       ┆   ┆ f64       ┆ f64       ┆ f64       ┆ f64      │\n",
       "╞═══════════╪═══════════╪═══════════╪═══════════╪═══╪═══════════╪═══════════╪═══════════╪══════════╡\n",
       "│ all-MiniL ┆ 0.0       ┆ 0.0       ┆ 0.0       ┆ … ┆ 0.0       ┆ 0.0       ┆ 0.0       ┆ 0.0      │\n",
       "│ M-L6-v2_t ┆           ┆           ┆           ┆   ┆           ┆           ┆           ┆          │\n",
       "│ itle_eucl ┆           ┆           ┆           ┆   ┆           ┆           ┆           ┆          │\n",
       "│ ide…      ┆           ┆           ┆           ┆   ┆           ┆           ┆           ┆          │\n",
       "│ all-MiniL ┆ 0.0       ┆ 0.0       ┆ 0.0       ┆ … ┆ 0.0       ┆ 0.0       ┆ 0.0       ┆ 0.0      │\n",
       "│ M-L6-v2_t ┆           ┆           ┆           ┆   ┆           ┆           ┆           ┆          │\n",
       "│ itle_manh ┆           ┆           ┆           ┆   ┆           ┆           ┆           ┆          │\n",
       "│ att…      ┆           ┆           ┆           ┆   ┆           ┆           ┆           ┆          │\n",
       "│ all-MiniL ┆ 0.0       ┆ 27.0      ┆ 0.0       ┆ … ┆ 0.0       ┆ 0.0       ┆ 5.0       ┆ 5.0      │\n",
       "│ M-L6-v2_t ┆           ┆           ┆           ┆   ┆           ┆           ┆           ┆          │\n",
       "│ itle_cheb ┆           ┆           ┆           ┆   ┆           ┆           ┆           ┆          │\n",
       "│ ysh…      ┆           ┆           ┆           ┆   ┆           ┆           ┆           ┆          │\n",
       "│ all-MiniL ┆ 0.0       ┆ 0.0       ┆ 0.0       ┆ … ┆ 0.0       ┆ 0.0       ┆ 0.0       ┆ 0.0      │\n",
       "│ M-L6-v2_t ┆           ┆           ┆           ┆   ┆           ┆           ┆           ┆          │\n",
       "│ itle_cos- ┆           ┆           ┆           ┆   ┆           ┆           ┆           ┆          │\n",
       "│ sim       ┆           ┆           ┆           ┆   ┆           ┆           ┆           ┆          │\n",
       "│ all-MiniL ┆ 0.0       ┆ 0.0       ┆ 0.0       ┆ … ┆ 0.0       ┆ 0.0       ┆ 0.0       ┆ 0.0      │\n",
       "│ M-L6-v2_t ┆           ┆           ┆           ┆   ┆           ┆           ┆           ┆          │\n",
       "│ itle_dot- ┆           ┆           ┆           ┆   ┆           ┆           ┆           ┆          │\n",
       "│ sco…      ┆           ┆           ┆           ┆   ┆           ┆           ┆           ┆          │\n",
       "└───────────┴───────────┴───────────┴───────────┴───┴───────────┴───────────┴───────────┴──────────┘"
      ]
     },
     "execution_count": 163,
     "metadata": {},
     "output_type": "execute_result"
    }
   ],
   "source": [
    "schema_dict = {'method_name': str }\n",
    "for i in range(len(eval_results[0])-1):\n",
    "    schema_dict['rank_query-'+str(i)] = float\n",
    "print(schema_dict)\n",
    "\n",
    "df_results = pl.DataFrame(eval_results, schema=schema_dict)\n",
    "df_results.head()"
   ]
  },
  {
   "cell_type": "code",
   "execution_count": 164,
   "id": "f819024a",
   "metadata": {},
   "outputs": [],
   "source": [
    "# compute mean rankings of ground truth search result\n",
    "df_results = df_results.with_columns(new_col=pl.mean_horizontal(df_results.columns[1:])).rename({\"new_col\": \"rank_query-mean\"})"
   ]
  },
  {
   "cell_type": "code",
   "execution_count": 165,
   "id": "c393a506",
   "metadata": {},
   "outputs": [],
   "source": [
    "# compute number of ground truth results which appear in top 3\n",
    "for i in [1,3]:\n",
    "    df_results = df_results.with_columns(new_col=pl.sum_horizontal(df_results[:,1:-1]<i)).rename({\"new_col\": \"num_in_top-\"+str(i)})"
   ]
  },
  {
   "cell_type": "code",
   "execution_count": 166,
   "id": "0ae4b7d6",
   "metadata": {},
   "outputs": [],
   "source": [
    "df_summary = df_results[['method_name', \"rank_query-mean\", \"num_in_top-1\", \"num_in_top-3\"]]"
   ]
  },
  {
   "cell_type": "code",
   "execution_count": 167,
   "id": "e3f09a06",
   "metadata": {},
   "outputs": [
    {
     "data": {
      "text/html": [
       "<div><style>\n",
       ".dataframe > thead > tr,\n",
       ".dataframe > tbody > tr {\n",
       "  text-align: right;\n",
       "  white-space: pre-wrap;\n",
       "}\n",
       "</style>\n",
       "<small>shape: (5, 4)</small><table border=\"1\" class=\"dataframe\"><thead><tr><th>method_name</th><th>rank_query-mean</th><th>num_in_top-1</th><th>num_in_top-3</th></tr><tr><td>str</td><td>f64</td><td>u32</td><td>u32</td></tr></thead><tbody><tr><td>&quot;multi-qa-mpnet-base-dot-v1_tit…</td><td>3.80292</td><td>117</td><td>127</td></tr><tr><td>&quot;multi-qa-mpnet-base-dot-v1_tit…</td><td>4.072993</td><td>114</td><td>126</td></tr><tr><td>&quot;multi-qa-distilbert-cos-v1_tit…</td><td>4.372263</td><td>114</td><td>126</td></tr><tr><td>&quot;multi-qa-distilbert-cos-v1_tit…</td><td>4.437956</td><td>115</td><td>126</td></tr><tr><td>&quot;multi-qa-distilbert-cos-v1_tit…</td><td>4.459854</td><td>114</td><td>124</td></tr></tbody></table></div>"
      ],
      "text/plain": [
       "shape: (5, 4)\n",
       "┌─────────────────────────────────┬─────────────────┬──────────────┬──────────────┐\n",
       "│ method_name                     ┆ rank_query-mean ┆ num_in_top-1 ┆ num_in_top-3 │\n",
       "│ ---                             ┆ ---             ┆ ---          ┆ ---          │\n",
       "│ str                             ┆ f64             ┆ u32          ┆ u32          │\n",
       "╞═════════════════════════════════╪═════════════════╪══════════════╪══════════════╡\n",
       "│ multi-qa-mpnet-base-dot-v1_tit… ┆ 3.80292         ┆ 117          ┆ 127          │\n",
       "│ multi-qa-mpnet-base-dot-v1_tit… ┆ 4.072993        ┆ 114          ┆ 126          │\n",
       "│ multi-qa-distilbert-cos-v1_tit… ┆ 4.372263        ┆ 114          ┆ 126          │\n",
       "│ multi-qa-distilbert-cos-v1_tit… ┆ 4.437956        ┆ 115          ┆ 126          │\n",
       "│ multi-qa-distilbert-cos-v1_tit… ┆ 4.459854        ┆ 114          ┆ 124          │\n",
       "└─────────────────────────────────┴─────────────────┴──────────────┴──────────────┘"
      ]
     },
     "execution_count": 167,
     "metadata": {},
     "output_type": "execute_result"
    }
   ],
   "source": [
    "df_summary.sort('rank_query-mean').head()"
   ]
  },
  {
   "cell_type": "code",
   "execution_count": 168,
   "id": "5e6065bf",
   "metadata": {},
   "outputs": [
    {
     "data": {
      "text/plain": [
       "'multi-qa-mpnet-base-dot-v1_title-transcript_dot-score'"
      ]
     },
     "execution_count": 168,
     "metadata": {},
     "output_type": "execute_result"
    }
   ],
   "source": [
    "df_summary.sort('rank_query-mean').head()[0,0]"
   ]
  },
  {
   "cell_type": "code",
   "execution_count": 169,
   "id": "f15d14db",
   "metadata": {},
   "outputs": [
    {
     "name": "stdout",
     "output_type": "stream",
     "text": [
      "shape: (5, 4)\n",
      "┌─────────────────────────────────┬─────────────────┬──────────────┬──────────────┐\n",
      "│ method_name                     ┆ rank_query-mean ┆ num_in_top-1 ┆ num_in_top-3 │\n",
      "│ ---                             ┆ ---             ┆ ---          ┆ ---          │\n",
      "│ str                             ┆ f64             ┆ u32          ┆ u32          │\n",
      "╞═════════════════════════════════╪═════════════════╪══════════════╪══════════════╡\n",
      "│ multi-qa-distilbert-cos-v1_tit… ┆ 4.613139        ┆ 117          ┆ 123          │\n",
      "│ all-MiniLM-L6-v2_title-transcr… ┆ 4.481752        ┆ 117          ┆ 124          │\n",
      "│ multi-qa-mpnet-base-dot-v1_tit… ┆ 3.80292         ┆ 117          ┆ 127          │\n",
      "│ all-MiniLM-L6-v2_title_manhatt… ┆ 5.291971        ┆ 116          ┆ 125          │\n",
      "│ multi-qa-mpnet-base-dot-v1_tit… ┆ 4.80292         ┆ 116          ┆ 123          │\n",
      "└─────────────────────────────────┴─────────────────┴──────────────┴──────────────┘\n"
     ]
    }
   ],
   "source": [
    "print(df_summary.sort(\"num_in_top-1\", descending=True).head())"
   ]
  },
  {
   "cell_type": "code",
   "execution_count": 170,
   "id": "3f71591f",
   "metadata": {},
   "outputs": [
    {
     "data": {
      "text/plain": [
       "'multi-qa-distilbert-cos-v1_title_manhattan'"
      ]
     },
     "execution_count": 170,
     "metadata": {},
     "output_type": "execute_result"
    }
   ],
   "source": [
    "df_summary.sort(\"num_in_top-1\", descending=True).head()[0,0]"
   ]
  },
  {
   "cell_type": "code",
   "execution_count": 171,
   "id": "ba15b5d7",
   "metadata": {},
   "outputs": [
    {
     "name": "stdout",
     "output_type": "stream",
     "text": [
      "shape: (5, 4)\n",
      "┌─────────────────────────────────┬─────────────────┬──────────────┬──────────────┐\n",
      "│ method_name                     ┆ rank_query-mean ┆ num_in_top-1 ┆ num_in_top-3 │\n",
      "│ ---                             ┆ ---             ┆ ---          ┆ ---          │\n",
      "│ str                             ┆ f64             ┆ u32          ┆ u32          │\n",
      "╞═════════════════════════════════╪═════════════════╪══════════════╪══════════════╡\n",
      "│ multi-qa-mpnet-base-dot-v1_tit… ┆ 5.072993        ┆ 114          ┆ 127          │\n",
      "│ multi-qa-mpnet-base-dot-v1_tit… ┆ 3.80292         ┆ 117          ┆ 127          │\n",
      "│ all-MiniLM-L6-v2_title_euclide… ┆ 5.124088        ┆ 115          ┆ 126          │\n",
      "│ all-MiniLM-L6-v2_title_cos-sim  ┆ 5.124088        ┆ 115          ┆ 126          │\n",
      "│ all-MiniLM-L6-v2_title_dot-sco… ┆ 5.124088        ┆ 115          ┆ 126          │\n",
      "└─────────────────────────────────┴─────────────────┴──────────────┴──────────────┘\n"
     ]
    }
   ],
   "source": [
    "print(df_summary.sort(\"num_in_top-3\", descending=True).head())"
   ]
  },
  {
   "cell_type": "code",
   "execution_count": 172,
   "id": "529d957d",
   "metadata": {},
   "outputs": [
    {
     "data": {
      "text/plain": [
       "'multi-qa-mpnet-base-dot-v1_title-transcript_manhattan'"
      ]
     },
     "execution_count": 172,
     "metadata": {},
     "output_type": "execute_result"
    }
   ],
   "source": [
    "df_summary.sort(\"num_in_top-3\", descending=True).head()[0,0]"
   ]
  },
  {
   "cell_type": "code",
   "execution_count": 173,
   "id": "a4a3d675",
   "metadata": {},
   "outputs": [
    {
     "name": "stdout",
     "output_type": "stream",
     "text": [
      "multi-qa-mpnet-base-dot-v1_title-transcript_manhattan\n",
      "multi-qa-mpnet-base-dot-v1_title-transcript_dot-score\n",
      "all-MiniLM-L6-v2_title_euclidean\n",
      "all-MiniLM-L6-v2_title_cos-sim\n"
     ]
    }
   ],
   "source": [
    "for i in range(4):\n",
    "    print(df_summary.sort(\"num_in_top-3\", descending=True)['method_name'][i])"
   ]
  }
 ],
 "metadata": {
  "kernelspec": {
   "display_name": "Python 3",
   "language": "python",
   "name": "python3"
  },
  "language_info": {
   "codemirror_mode": {
    "name": "ipython",
    "version": 3
   },
   "file_extension": ".py",
   "mimetype": "text/x-python",
   "name": "python",
   "nbconvert_exporter": "python",
   "pygments_lexer": "ipython3",
   "version": "3.10.18"
  }
 },
 "nbformat": 4,
 "nbformat_minor": 5
}
