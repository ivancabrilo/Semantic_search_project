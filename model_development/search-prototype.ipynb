{
 "cells": [
  {
   "cell_type": "code",
   "execution_count": 8,
   "id": "e60d538c",
   "metadata": {},
   "outputs": [],
   "source": [
    "import polars as pl\n",
    "from sentence_transformers import SentenceTransformer\n",
    "from sklearn.metrics import DistanceMetric\n",
    "import numpy as np\n",
    "import gradio as gr"
   ]
  },
  {
   "cell_type": "code",
   "execution_count": 9,
   "id": "c2bfd7e1",
   "metadata": {},
   "outputs": [
    {
     "name": "stdout",
     "output_type": "stream",
     "text": [
      "CPU times: user 86 μs, sys: 110 μs, total: 196 μs\n",
      "Wall time: 199 μs\n"
     ]
    }
   ],
   "source": [
    "%time df = pl.scan_csv('../data/video-index.csv')"
   ]
  },
  {
   "cell_type": "code",
   "execution_count": 10,
   "id": "c9a9226f",
   "metadata": {},
   "outputs": [],
   "source": [
    "model_name = 'multi-qa-mpnet-base-dot-v1'\n",
    "model = SentenceTransformer(model_name)"
   ]
  },
  {
   "cell_type": "code",
   "execution_count": 21,
   "id": "33b0b28e",
   "metadata": {},
   "outputs": [],
   "source": [
    "dist_name = 'euclidean'\n",
    "dist = DistanceMetric.get_metric(dist_name)"
   ]
  },
  {
   "cell_type": "code",
   "execution_count": 22,
   "id": "69c90578",
   "metadata": {},
   "outputs": [],
   "source": [
    "def returnSearchResults(query: str, index: pl.lazyframe.frame.LazyFrame) -> np.ndarray:\n",
    "    \"\"\"\n",
    "        Function to return indexes of top search results\n",
    "    \"\"\"\n",
    "    \n",
    "    # embed query\n",
    "    query_embedding = model.encode(query).reshape(1, -1)\n",
    "\n",
    "    # Get column names without triggering schema resolution warning\n",
    "    column_names = index.collect_schema().names()\n",
    "    \n",
    "    # compute distances between query and titles/transcripts\n",
    "    dist_arr = (\n",
    "        dist.pairwise(index.select(column_names[4:772]).collect(), query_embedding) +\n",
    "        dist.pairwise(index.select(column_names[772:]).collect(), query_embedding)\n",
    "    )\n",
    "\n",
    "    # search paramaters\n",
    "    threshold = 40 # eye balled threshold for manhatten distance\n",
    "    top_k = 5\n",
    "\n",
    "    # evaluate videos close to query based on threshold\n",
    "    idx_below_threshold = np.argwhere(dist_arr.flatten()<threshold).flatten()\n",
    "    # keep top k closest videos\n",
    "    idx_sorted = np.argsort(dist_arr[idx_below_threshold], axis=0).flatten()\n",
    "\n",
    "    # return indexes of search results\n",
    "    return idx_below_threshold[idx_sorted][:top_k]"
   ]
  },
  {
   "cell_type": "code",
   "execution_count": null,
   "id": "3fa2e24e",
   "metadata": {},
   "outputs": [],
   "source": [
    "# def returnSearchResults(\n",
    "#         query: str,\n",
    "#         index: pl.LazyFrame,\n",
    "#         top_k: int = 5,\n",
    "#         title_prefix: str = \"title_embedding-\",\n",
    "#         transcript_prefix: str = \"transcript_embedding-\",\n",
    "# ) -> np.ndarray:\n",
    "#     \"\"\"\n",
    "#     Returns the row‑indices of the top‑k videos most relevant to *query*\n",
    "#     using dot‑product similarity on title + transcript embeddings.\n",
    "#     \"\"\"\n",
    "\n",
    "#     # -------------------------------------------------\n",
    "#     # 1. embed / normalise the query text\n",
    "#     # -------------------------------------------------\n",
    "#     # SentenceTransformers normalises automatically for “dot” models,\n",
    "#     # but calling with the flag makes that explicit & future‑proof:\n",
    "#     query_vec = model.encode(query,\n",
    "#                              normalize_embeddings=True).reshape(-1)  # (768,)\n",
    "\n",
    "#     # -------------------------------------------------\n",
    "#     # 2. pull the two 768‑dim matrices from Polars\n",
    "#     # -------------------------------------------------\n",
    "#     col_names = index.collect_schema().names()\n",
    "#     title_cols      = [c for c in col_names if c.startswith(title_prefix)]\n",
    "#     transcript_cols = [c for c in col_names if c.startswith(transcript_prefix)]\n",
    "\n",
    "#     title_mat      = index.select(title_cols).collect().to_numpy()      # (N,768)\n",
    "#     transcript_mat = index.select(transcript_cols).collect().to_numpy() # (N,768)\n",
    "\n",
    "#     # -------------------------------------------------\n",
    "#     # 3. dot‑score ‑> bigger is better\n",
    "#     # -------------------------------------------------\n",
    "#     sim_scores = (title_mat @ query_vec) + (transcript_mat @ query_vec)  # (N,)\n",
    "\n",
    "#     # -------------------------------------------------\n",
    "#     # 4. take the *k* highest scores\n",
    "#     # -------------------------------------------------\n",
    "#     top_idx = np.argsort(-sim_scores)[:top_k]   # descending order\n",
    "#     return top_idx\n"
   ]
  },
  {
   "cell_type": "code",
   "execution_count": 24,
   "id": "bede1e0c",
   "metadata": {},
   "outputs": [
    {
     "data": {
      "text/html": [
       "<div><style>\n",
       ".dataframe > thead > tr,\n",
       ".dataframe > tbody > tr {\n",
       "  text-align: right;\n",
       "  white-space: pre-wrap;\n",
       "}\n",
       "</style>\n",
       "<small>shape: (5, 2)</small><table border=\"1\" class=\"dataframe\"><thead><tr><th>video_id</th><th>title</th></tr><tr><td>str</td><td>str</td></tr></thead><tbody><tr><td>&quot;5iPH-br_eJQ&quot;</td><td>&quot;What if We Nuke a City?&quot;</td></tr><tr><td>&quot;JyECrGp-Sw8&quot;</td><td>&quot;What If We Detonated All Nucle…</td></tr><tr><td>&quot;E55uSCO5D2w&quot;</td><td>&quot;The Most Insane Weapon You Nev…</td></tr><tr><td>&quot;qEfPBt9dU60&quot;</td><td>&quot;What if We Nuke the Moon?&quot;</td></tr><tr><td>&quot;9tbxDgcv74c&quot;</td><td>&quot;What If You Detonated a Nuclea…</td></tr></tbody></table></div>"
      ],
      "text/plain": [
       "shape: (5, 2)\n",
       "┌─────────────┬─────────────────────────────────┐\n",
       "│ video_id    ┆ title                           │\n",
       "│ ---         ┆ ---                             │\n",
       "│ str         ┆ str                             │\n",
       "╞═════════════╪═════════════════════════════════╡\n",
       "│ 5iPH-br_eJQ ┆ What if We Nuke a City?         │\n",
       "│ JyECrGp-Sw8 ┆ What If We Detonated All Nucle… │\n",
       "│ E55uSCO5D2w ┆ The Most Insane Weapon You Nev… │\n",
       "│ qEfPBt9dU60 ┆ What if We Nuke the Moon?       │\n",
       "│ 9tbxDgcv74c ┆ What If You Detonated a Nuclea… │\n",
       "└─────────────┴─────────────────────────────────┘"
      ]
     },
     "execution_count": 24,
     "metadata": {},
     "output_type": "execute_result"
    }
   ],
   "source": [
    "idx_result = returnSearchResults(\"bomb\", df.lazy())\n",
    "df.select(['video_id', 'title']).collect()[idx_result]\n"
   ]
  },
  {
   "cell_type": "code",
   "execution_count": 25,
   "id": "4e3def87",
   "metadata": {},
   "outputs": [
    {
     "data": {
      "text/plain": [
       "{'title': ['What if We Nuke a City?',\n",
       "  'What If We Detonated All Nuclear Bombs at Once?',\n",
       "  'The Most Insane Weapon You Never Heard About',\n",
       "  'What if We Nuke the Moon?',\n",
       "  'What If You Detonated a Nuclear Bomb In The Marianas Trench? (Science not Fantasy)'],\n",
       " 'video_id': ['5iPH-br_eJQ',\n",
       "  'JyECrGp-Sw8',\n",
       "  'E55uSCO5D2w',\n",
       "  'qEfPBt9dU60',\n",
       "  '9tbxDgcv74c']}"
      ]
     },
     "execution_count": 25,
     "metadata": {},
     "output_type": "execute_result"
    }
   ],
   "source": [
    "df.select(['title', 'video_id']).collect()[idx_result].to_dict(as_series=False)"
   ]
  },
  {
   "cell_type": "code",
   "execution_count": 26,
   "id": "40573de7",
   "metadata": {},
   "outputs": [],
   "source": [
    "def pseudoSearchAPI(query: str):\n",
    "    \n",
    "    # return top 5 search results\n",
    "    idx_result = returnSearchResults(query, df)\n",
    "    response = df.select(['title', 'video_id']).collect()[idx_result].to_dict(as_series=False)\n",
    "\n",
    "    return response"
   ]
  },
  {
   "cell_type": "code",
   "execution_count": 27,
   "id": "0ba62c9b",
   "metadata": {},
   "outputs": [],
   "source": [
    "def formatResultText(title: str, video_id: str):\n",
    "    \n",
    "    text = markdown_text = f\"\"\"<br> <br>\n",
    "# {title}<br>\n",
    "\n",
    "🔗 [Video Link](https://youtu.be/{video_id})\"\"\"\n",
    "\n",
    "    return text"
   ]
  },
  {
   "cell_type": "code",
   "execution_count": 28,
   "id": "97709f7e",
   "metadata": {},
   "outputs": [],
   "source": [
    "def formatVideoEmbed(video_id: str):\n",
    "\n",
    "    # other options\n",
    "    # embed = '<iframe width=\"640\" height=\"360\" src=\"https://img.youtube.com/vi/'+ video_id +'/0.jpg\" </iframe>'\n",
    "    # embed = '<a href=\"https://youtu.be/'+ video_id +'\"> <img src=\"https://img.youtube.com/vi/'+ video_id +'/0.jpg\" style=\"width:576;height:324;\"></a>'\n",
    "    # embed = '<a href=\"www.youtube.com/watch?v='+ video_id +'\"> <img src=\"https://img.youtube.com/vi/'+ video_id +'/0.jpg\" style=\"width:576;height:324;\"></a>'\n",
    "    \n",
    "    return '<iframe width=\"576\" height=\"324\" src=\"https://www.youtube.com/embed/'+ video_id +'\"></iframe>'"
   ]
  },
  {
   "cell_type": "code",
   "execution_count": 29,
   "id": "97e9f31c",
   "metadata": {},
   "outputs": [],
   "source": [
    "def searchResults(query):\n",
    "    # pseudo API call\n",
    "    response = pseudoSearchAPI(query)\n",
    "\n",
    "    # format search results\n",
    "\n",
    "    # initialize list of outputs\n",
    "    output_list = []\n",
    "\n",
    "    # compute number of null search results (out of 5)\n",
    "    num_empty_results = 5-len(response['title'])\n",
    "\n",
    "    # display search results\n",
    "    for i in range(len(response['title'])):\n",
    "        video_id = response['video_id'][i]\n",
    "        title = response['title'][i]\n",
    "\n",
    "        embed = gr.HTML(value = formatVideoEmbed(video_id), visible=True)\n",
    "        text = gr.Markdown(value = formatResultText(title, video_id), visible=True)\n",
    "\n",
    "        output_list.append(embed)\n",
    "        output_list.append(text)\n",
    "\n",
    "    # make null search result slots invisible\n",
    "    for i in range(num_empty_results):\n",
    "        \n",
    "        # if no search results display \"No results.\" text\n",
    "        if num_empty_results==5 and i==0:\n",
    "            embed = gr.HTML(visible=False)\n",
    "            text = gr.Markdown(value = \"No results. Try rephrasing your query.\", visible=True)\n",
    "\n",
    "            output_list.append(embed)\n",
    "            output_list.append(text)\n",
    "            continue\n",
    "\n",
    "        embed = gr.HTML(visible=False)\n",
    "        text = gr.Markdown(visible=False)\n",
    "\n",
    "        output_list.append(embed)\n",
    "        output_list.append(text)\n",
    "        \n",
    "    return output_list"
   ]
  },
  {
   "cell_type": "code",
   "execution_count": 30,
   "id": "c10235fb",
   "metadata": {},
   "outputs": [
    {
     "name": "stdout",
     "output_type": "stream",
     "text": [
      "* Running on local URL:  http://127.0.0.1:7861\n",
      "* To create a public link, set `share=True` in `launch()`.\n"
     ]
    },
    {
     "data": {
      "text/html": [
       "<div><iframe src=\"http://127.0.0.1:7861/\" width=\"100%\" height=\"500\" allow=\"autoplay; camera; microphone; clipboard-read; clipboard-write;\" frameborder=\"0\" allowfullscreen></iframe></div>"
      ],
      "text/plain": [
       "<IPython.core.display.HTML object>"
      ]
     },
     "metadata": {},
     "output_type": "display_data"
    },
    {
     "data": {
      "text/plain": []
     },
     "execution_count": 30,
     "metadata": {},
     "output_type": "execute_result"
    }
   ],
   "source": [
    "# demo\n",
    "output_list = []\n",
    "\n",
    "with gr.Blocks() as demo:\n",
    "    gr.Markdown(\"# YouTube Search\")\n",
    "\n",
    "    with gr.Row():\n",
    "        inp = gr.Textbox(placeholder=\"What are you looking for?\", label=\"Query\", scale=3)\n",
    "        btn = gr.Button(\"Search\")\n",
    "        btn.click(fn=searchResults, inputs=inp, outputs=output_list)\n",
    "    \n",
    "    for i in range(5):\n",
    "        with gr.Row():\n",
    "            output_list.append(gr.HTML())\n",
    "            output_list.append(gr.Markdown())\n",
    "             \n",
    "    inp.submit(fn=searchResults, inputs=inp, outputs=output_list)\n",
    "\n",
    "demo.launch()"
   ]
  },
  {
   "cell_type": "code",
   "execution_count": null,
   "id": "2ed31865",
   "metadata": {},
   "outputs": [],
   "source": []
  }
 ],
 "metadata": {
  "kernelspec": {
   "display_name": "Python 3",
   "language": "python",
   "name": "python3"
  },
  "language_info": {
   "codemirror_mode": {
    "name": "ipython",
    "version": 3
   },
   "file_extension": ".py",
   "mimetype": "text/x-python",
   "name": "python",
   "nbconvert_exporter": "python",
   "pygments_lexer": "ipython3",
   "version": "3.10.18"
  }
 },
 "nbformat": 4,
 "nbformat_minor": 5
}
