{
 "cells": [
  {
   "cell_type": "code",
   "execution_count": 1,
   "id": "12ecf888",
   "metadata": {},
   "outputs": [],
   "source": [
    "import polars as pl\n",
    "from sentence_transformers import SentenceTransformer"
   ]
  },
  {
   "cell_type": "code",
   "execution_count": 2,
   "id": "1e5d2e7c",
   "metadata": {},
   "outputs": [
    {
     "data": {
      "text/html": [
       "<div><style>\n",
       ".dataframe > thead > tr,\n",
       ".dataframe > tbody > tr {\n",
       "  text-align: right;\n",
       "  white-space: pre-wrap;\n",
       "}\n",
       "</style>\n",
       "<small>shape: (5, 4)</small><table border=\"1\" class=\"dataframe\"><thead><tr><th>video_id</th><th>datetime</th><th>title</th><th>transcript</th></tr><tr><td>str</td><td>str</td><td>str</td><td>str</td></tr></thead><tbody><tr><td>&quot;wwSzpaTHyS8&quot;</td><td>&quot;2024-01-30T15:00:03.000000&quot;</td><td>&quot;Did The Future Already Happen?…</td><td>&quot;Do your past, present and futu…</td></tr><tr><td>&quot;dFCbJmgeHmA&quot;</td><td>&quot;2021-06-15T14:09:03.000000&quot;</td><td>&quot;The Day the Dinosaurs Died – M…</td><td>&quot;one of the greatest Illusions …</td></tr><tr><td>&quot;1AElONvi9WQ&quot;</td><td>&quot;2020-03-01T13:30:00.000000&quot;</td><td>&quot;Why Blue Whales Don&#x27;t Get Canc…</td><td>&quot;Cancer is a creepy and mysteri…</td></tr><tr><td>&quot;Hug0rfFC_L8&quot;</td><td>&quot;2014-12-18T14:02:27.000000&quot;</td><td>&quot;The Ultimate Conspiracy Debunk…</td><td>&quot;The Internet is like a breedin…</td></tr><tr><td>&quot;lXfEK8G8CUI&quot;</td><td>&quot;2021-08-10T13:59:41.000000&quot;</td><td>&quot;How The Immune System ACTUALLY…</td><td>&quot;the human immune system is the…</td></tr></tbody></table></div>"
      ],
      "text/plain": [
       "shape: (5, 4)\n",
       "┌─────────────┬────────────────────────────┬───────────────────────────┬───────────────────────────┐\n",
       "│ video_id    ┆ datetime                   ┆ title                     ┆ transcript                │\n",
       "│ ---         ┆ ---                        ┆ ---                       ┆ ---                       │\n",
       "│ str         ┆ str                        ┆ str                       ┆ str                       │\n",
       "╞═════════════╪════════════════════════════╪═══════════════════════════╪═══════════════════════════╡\n",
       "│ wwSzpaTHyS8 ┆ 2024-01-30T15:00:03.000000 ┆ Did The Future Already    ┆ Do your past, present and │\n",
       "│             ┆                            ┆ Happen?…                  ┆ futu…                     │\n",
       "│ dFCbJmgeHmA ┆ 2021-06-15T14:09:03.000000 ┆ The Day the Dinosaurs     ┆ one of the greatest       │\n",
       "│             ┆                            ┆ Died – M…                 ┆ Illusions …               │\n",
       "│ 1AElONvi9WQ ┆ 2020-03-01T13:30:00.000000 ┆ Why Blue Whales Don't Get ┆ Cancer is a creepy and    │\n",
       "│             ┆                            ┆ Canc…                     ┆ mysteri…                  │\n",
       "│ Hug0rfFC_L8 ┆ 2014-12-18T14:02:27.000000 ┆ The Ultimate Conspiracy   ┆ The Internet is like a    │\n",
       "│             ┆                            ┆ Debunk…                   ┆ breedin…                  │\n",
       "│ lXfEK8G8CUI ┆ 2021-08-10T13:59:41.000000 ┆ How The Immune System     ┆ the human immune system   │\n",
       "│             ┆                            ┆ ACTUALLY…                 ┆ is the…                   │\n",
       "└─────────────┴────────────────────────────┴───────────────────────────┴───────────────────────────┘"
      ]
     },
     "execution_count": 2,
     "metadata": {},
     "output_type": "execute_result"
    }
   ],
   "source": [
    "df = pl.read_csv('data/video-transcripts.csv')\n",
    "df.head()"
   ]
  },
  {
   "cell_type": "code",
   "execution_count": 3,
   "id": "df11dde1",
   "metadata": {},
   "outputs": [],
   "source": [
    "model_name = 'multi-qa-mpnet-base-dot-v1'\n",
    "column_name_list = ['title','transcript']"
   ]
  },
  {
   "cell_type": "code",
   "execution_count": 4,
   "id": "63c1be9a",
   "metadata": {},
   "outputs": [],
   "source": [
    "model = SentenceTransformer(model_name)\n",
    "\n",
    "for column_name in column_name_list:\n",
    "\n",
    "    embedding_arr = model.encode(df[column_name].to_list())\n",
    "\n",
    "    # store embeddings in a dataframe\n",
    "    schema_dict = {column_name+'_embedding-'+str(i): float for i in range(embedding_arr.shape[1])}\n",
    "    df_embedding = pl.DataFrame(embedding_arr, schema=schema_dict)\n",
    "\n",
    "    # append embeddings to video index\n",
    "    df = pl.concat([df, df_embedding], how='horizontal')"
   ]
  },
  {
   "cell_type": "code",
   "execution_count": 5,
   "id": "b24ee034",
   "metadata": {},
   "outputs": [
    {
     "data": {
      "text/plain": [
       "(217, 1540)"
      ]
     },
     "execution_count": 5,
     "metadata": {},
     "output_type": "execute_result"
    }
   ],
   "source": [
    "df.shape"
   ]
  },
  {
   "cell_type": "code",
   "execution_count": 6,
   "id": "1f277ab0",
   "metadata": {},
   "outputs": [
    {
     "data": {
      "text/html": [
       "<div><style>\n",
       ".dataframe > thead > tr,\n",
       ".dataframe > tbody > tr {\n",
       "  text-align: right;\n",
       "  white-space: pre-wrap;\n",
       "}\n",
       "</style>\n",
       "<small>shape: (5, 1_540)</small><table border=\"1\" class=\"dataframe\"><thead><tr><th>video_id</th><th>datetime</th><th>title</th><th>transcript</th><th>title_embedding-0</th><th>title_embedding-1</th><th>title_embedding-2</th><th>title_embedding-3</th><th>title_embedding-4</th><th>title_embedding-5</th><th>title_embedding-6</th><th>title_embedding-7</th><th>title_embedding-8</th><th>title_embedding-9</th><th>title_embedding-10</th><th>title_embedding-11</th><th>title_embedding-12</th><th>title_embedding-13</th><th>title_embedding-14</th><th>title_embedding-15</th><th>title_embedding-16</th><th>title_embedding-17</th><th>title_embedding-18</th><th>title_embedding-19</th><th>title_embedding-20</th><th>title_embedding-21</th><th>title_embedding-22</th><th>title_embedding-23</th><th>title_embedding-24</th><th>title_embedding-25</th><th>title_embedding-26</th><th>title_embedding-27</th><th>title_embedding-28</th><th>title_embedding-29</th><th>title_embedding-30</th><th>title_embedding-31</th><th>title_embedding-32</th><th>&hellip;</th><th>transcript_embedding-731</th><th>transcript_embedding-732</th><th>transcript_embedding-733</th><th>transcript_embedding-734</th><th>transcript_embedding-735</th><th>transcript_embedding-736</th><th>transcript_embedding-737</th><th>transcript_embedding-738</th><th>transcript_embedding-739</th><th>transcript_embedding-740</th><th>transcript_embedding-741</th><th>transcript_embedding-742</th><th>transcript_embedding-743</th><th>transcript_embedding-744</th><th>transcript_embedding-745</th><th>transcript_embedding-746</th><th>transcript_embedding-747</th><th>transcript_embedding-748</th><th>transcript_embedding-749</th><th>transcript_embedding-750</th><th>transcript_embedding-751</th><th>transcript_embedding-752</th><th>transcript_embedding-753</th><th>transcript_embedding-754</th><th>transcript_embedding-755</th><th>transcript_embedding-756</th><th>transcript_embedding-757</th><th>transcript_embedding-758</th><th>transcript_embedding-759</th><th>transcript_embedding-760</th><th>transcript_embedding-761</th><th>transcript_embedding-762</th><th>transcript_embedding-763</th><th>transcript_embedding-764</th><th>transcript_embedding-765</th><th>transcript_embedding-766</th><th>transcript_embedding-767</th></tr><tr><td>str</td><td>str</td><td>str</td><td>str</td><td>f64</td><td>f64</td><td>f64</td><td>f64</td><td>f64</td><td>f64</td><td>f64</td><td>f64</td><td>f64</td><td>f64</td><td>f64</td><td>f64</td><td>f64</td><td>f64</td><td>f64</td><td>f64</td><td>f64</td><td>f64</td><td>f64</td><td>f64</td><td>f64</td><td>f64</td><td>f64</td><td>f64</td><td>f64</td><td>f64</td><td>f64</td><td>f64</td><td>f64</td><td>f64</td><td>f64</td><td>f64</td><td>f64</td><td>&hellip;</td><td>f64</td><td>f64</td><td>f64</td><td>f64</td><td>f64</td><td>f64</td><td>f64</td><td>f64</td><td>f64</td><td>f64</td><td>f64</td><td>f64</td><td>f64</td><td>f64</td><td>f64</td><td>f64</td><td>f64</td><td>f64</td><td>f64</td><td>f64</td><td>f64</td><td>f64</td><td>f64</td><td>f64</td><td>f64</td><td>f64</td><td>f64</td><td>f64</td><td>f64</td><td>f64</td><td>f64</td><td>f64</td><td>f64</td><td>f64</td><td>f64</td><td>f64</td><td>f64</td></tr></thead><tbody><tr><td>&quot;wwSzpaTHyS8&quot;</td><td>&quot;2024-01-30T15:00:03.000000&quot;</td><td>&quot;Did The Future Already Happen?…</td><td>&quot;Do your past, present and futu…</td><td>-0.025905</td><td>-0.057205</td><td>-0.239068</td><td>-0.030249</td><td>-0.324251</td><td>-0.406952</td><td>0.154386</td><td>0.147527</td><td>-0.05657</td><td>0.183445</td><td>0.355817</td><td>0.253671</td><td>0.009071</td><td>-0.130822</td><td>0.093072</td><td>0.157849</td><td>0.044513</td><td>0.148476</td><td>-0.16883</td><td>-0.038468</td><td>-0.175704</td><td>0.007907</td><td>-0.160255</td><td>0.088843</td><td>-0.135349</td><td>0.215504</td><td>-0.403005</td><td>0.187053</td><td>-0.177082</td><td>0.280815</td><td>-0.029954</td><td>0.067943</td><td>-0.037771</td><td>&hellip;</td><td>-0.083062</td><td>-0.095702</td><td>0.167</td><td>0.02029</td><td>0.004926</td><td>-0.181677</td><td>-0.062654</td><td>0.028706</td><td>-0.135353</td><td>0.282397</td><td>0.413036</td><td>0.090605</td><td>-0.086156</td><td>0.247052</td><td>-0.266838</td><td>-0.22705</td><td>0.301867</td><td>0.34981</td><td>0.212191</td><td>0.017764</td><td>0.253068</td><td>0.262885</td><td>0.103541</td><td>-0.428383</td><td>-0.229856</td><td>0.319932</td><td>-0.280512</td><td>0.345449</td><td>0.038927</td><td>0.218713</td><td>0.20518</td><td>0.106285</td><td>-0.297685</td><td>0.180136</td><td>-0.116905</td><td>0.060121</td><td>0.044395</td></tr><tr><td>&quot;dFCbJmgeHmA&quot;</td><td>&quot;2021-06-15T14:09:03.000000&quot;</td><td>&quot;The Day the Dinosaurs Died – M…</td><td>&quot;one of the greatest Illusions …</td><td>-0.051391</td><td>-0.076532</td><td>-0.327907</td><td>-0.016098</td><td>0.019872</td><td>-0.121818</td><td>0.036152</td><td>0.383335</td><td>-0.545619</td><td>0.152098</td><td>0.175513</td><td>0.31849</td><td>-0.420546</td><td>-0.272664</td><td>-0.073903</td><td>-0.403492</td><td>0.154533</td><td>0.028713</td><td>-0.153936</td><td>0.03519</td><td>-0.185023</td><td>-0.004032</td><td>-0.077323</td><td>-0.11822</td><td>-0.298985</td><td>0.060209</td><td>0.063826</td><td>0.016899</td><td>0.080266</td><td>-0.329317</td><td>-0.13258</td><td>-0.029919</td><td>0.215298</td><td>&hellip;</td><td>0.198497</td><td>-0.272788</td><td>0.093927</td><td>0.290756</td><td>0.136055</td><td>-0.020901</td><td>-0.362898</td><td>0.058989</td><td>-0.143124</td><td>0.065848</td><td>-0.132789</td><td>0.04787</td><td>-0.026864</td><td>0.354131</td><td>-0.226404</td><td>-0.226108</td><td>0.707069</td><td>0.404196</td><td>-0.134853</td><td>0.146131</td><td>-0.147008</td><td>-0.012603</td><td>-0.051642</td><td>-0.375915</td><td>-0.156023</td><td>0.174291</td><td>-0.108638</td><td>-0.102903</td><td>0.048374</td><td>-0.089792</td><td>-0.06719</td><td>0.003697</td><td>0.485208</td><td>0.053736</td><td>0.003127</td><td>-0.127867</td><td>-0.2931</td></tr><tr><td>&quot;1AElONvi9WQ&quot;</td><td>&quot;2020-03-01T13:30:00.000000&quot;</td><td>&quot;Why Blue Whales Don&#x27;t Get Canc…</td><td>&quot;Cancer is a creepy and mysteri…</td><td>0.331041</td><td>0.059231</td><td>-0.334223</td><td>-0.198434</td><td>0.177767</td><td>0.069817</td><td>-0.034318</td><td>0.516261</td><td>-0.077923</td><td>0.319862</td><td>0.007129</td><td>0.281118</td><td>0.029754</td><td>0.168317</td><td>-0.058006</td><td>-0.07772</td><td>0.194316</td><td>0.172918</td><td>0.449949</td><td>-0.565341</td><td>-0.279291</td><td>-0.183681</td><td>0.140431</td><td>-0.180643</td><td>0.318531</td><td>0.124176</td><td>0.039142</td><td>0.264325</td><td>-0.38974</td><td>-0.023645</td><td>-0.200744</td><td>-0.152801</td><td>-0.282532</td><td>&hellip;</td><td>-0.113357</td><td>-0.218527</td><td>0.293003</td><td>0.330546</td><td>-0.117394</td><td>0.007646</td><td>0.277167</td><td>-0.19762</td><td>-0.480463</td><td>0.161434</td><td>-0.479221</td><td>0.304498</td><td>-0.103126</td><td>0.25277</td><td>0.066134</td><td>-0.294965</td><td>0.174575</td><td>0.133719</td><td>-0.122697</td><td>-0.259427</td><td>-0.067257</td><td>0.427672</td><td>0.356506</td><td>-0.254509</td><td>-0.133694</td><td>0.007723</td><td>0.117205</td><td>-0.129653</td><td>-0.116634</td><td>-0.439639</td><td>-0.13738</td><td>-0.209195</td><td>0.303494</td><td>-0.202466</td><td>0.262715</td><td>0.278752</td><td>0.055127</td></tr><tr><td>&quot;Hug0rfFC_L8&quot;</td><td>&quot;2014-12-18T14:02:27.000000&quot;</td><td>&quot;The Ultimate Conspiracy Debunk…</td><td>&quot;The Internet is like a breedin…</td><td>-0.208302</td><td>-0.127359</td><td>-0.214014</td><td>0.079502</td><td>-0.416126</td><td>-0.196103</td><td>0.262214</td><td>-0.022504</td><td>-0.201781</td><td>0.188749</td><td>0.036593</td><td>0.179495</td><td>-0.269735</td><td>-0.047</td><td>-0.048672</td><td>0.456909</td><td>0.245806</td><td>0.083118</td><td>0.106665</td><td>-0.196385</td><td>-0.130073</td><td>0.14085</td><td>-0.054648</td><td>-0.015026</td><td>-0.1206</td><td>0.099799</td><td>0.297291</td><td>-0.052437</td><td>-0.120966</td><td>-0.055295</td><td>-0.089876</td><td>0.182102</td><td>-0.082569</td><td>&hellip;</td><td>0.071869</td><td>-0.465544</td><td>-0.098535</td><td>0.172604</td><td>-0.189845</td><td>-0.036173</td><td>-0.287569</td><td>-0.061934</td><td>-0.058097</td><td>0.352294</td><td>-0.111119</td><td>0.00324</td><td>0.07724</td><td>0.081679</td><td>-0.082045</td><td>-0.156627</td><td>0.390386</td><td>0.187721</td><td>-0.161565</td><td>-0.265613</td><td>0.089716</td><td>0.123836</td><td>-0.066241</td><td>-0.187347</td><td>-0.073191</td><td>0.083775</td><td>0.100054</td><td>-0.124404</td><td>-0.107779</td><td>0.15533</td><td>0.086105</td><td>-0.152376</td><td>-0.181196</td><td>0.006073</td><td>0.400234</td><td>-0.168515</td><td>-0.017901</td></tr><tr><td>&quot;lXfEK8G8CUI&quot;</td><td>&quot;2021-08-10T13:59:41.000000&quot;</td><td>&quot;How The Immune System ACTUALLY…</td><td>&quot;the human immune system is the…</td><td>0.3749</td><td>-0.359026</td><td>-0.237382</td><td>-0.044617</td><td>0.135443</td><td>-0.185199</td><td>0.302108</td><td>-0.259655</td><td>0.153136</td><td>0.294967</td><td>-0.199202</td><td>0.082187</td><td>0.125903</td><td>-0.129214</td><td>0.054529</td><td>0.231106</td><td>-0.167716</td><td>0.022192</td><td>-0.141061</td><td>-0.336385</td><td>-0.079946</td><td>0.06669</td><td>-0.42007</td><td>0.109387</td><td>0.55032</td><td>0.007437</td><td>-0.026803</td><td>0.146167</td><td>-0.115751</td><td>-0.088627</td><td>-0.020723</td><td>-0.184874</td><td>-0.053338</td><td>&hellip;</td><td>0.208923</td><td>-0.341126</td><td>0.101539</td><td>-0.032865</td><td>0.129658</td><td>-0.054247</td><td>0.096417</td><td>0.031902</td><td>-0.453055</td><td>0.346321</td><td>-0.382605</td><td>0.088905</td><td>0.070048</td><td>0.315211</td><td>-0.241491</td><td>-0.099406</td><td>0.40849</td><td>0.211493</td><td>-0.051736</td><td>-0.154101</td><td>0.118067</td><td>-0.222451</td><td>0.074716</td><td>0.006628</td><td>-0.352337</td><td>0.072058</td><td>-0.114752</td><td>-0.166804</td><td>0.038688</td><td>0.305608</td><td>-0.038484</td><td>-0.265214</td><td>-0.079144</td><td>0.419046</td><td>0.039504</td><td>-0.211684</td><td>-0.232104</td></tr></tbody></table></div>"
      ],
      "text/plain": [
       "shape: (5, 1_540)\n",
       "┌───────────┬───────────┬───────────┬───────────┬───┬───────────┬───────────┬───────────┬──────────┐\n",
       "│ video_id  ┆ datetime  ┆ title     ┆ transcrip ┆ … ┆ transcrip ┆ transcrip ┆ transcrip ┆ transcri │\n",
       "│ ---       ┆ ---       ┆ ---       ┆ t         ┆   ┆ t_embeddi ┆ t_embeddi ┆ t_embeddi ┆ pt_embed │\n",
       "│ str       ┆ str       ┆ str       ┆ ---       ┆   ┆ ng-764    ┆ ng-765    ┆ ng-766    ┆ ding-767 │\n",
       "│           ┆           ┆           ┆ str       ┆   ┆ ---       ┆ ---       ┆ ---       ┆ ---      │\n",
       "│           ┆           ┆           ┆           ┆   ┆ f64       ┆ f64       ┆ f64       ┆ f64      │\n",
       "╞═══════════╪═══════════╪═══════════╪═══════════╪═══╪═══════════╪═══════════╪═══════════╪══════════╡\n",
       "│ wwSzpaTHy ┆ 2024-01-3 ┆ Did The   ┆ Do your   ┆ … ┆ 0.180136  ┆ -0.116905 ┆ 0.060121  ┆ 0.044395 │\n",
       "│ S8        ┆ 0T15:00:0 ┆ Future    ┆ past,     ┆   ┆           ┆           ┆           ┆          │\n",
       "│           ┆ 3.000000  ┆ Already   ┆ present   ┆   ┆           ┆           ┆           ┆          │\n",
       "│           ┆           ┆ Happen?…  ┆ and futu… ┆   ┆           ┆           ┆           ┆          │\n",
       "│ dFCbJmgeH ┆ 2021-06-1 ┆ The Day   ┆ one of    ┆ … ┆ 0.053736  ┆ 0.003127  ┆ -0.127867 ┆ -0.2931  │\n",
       "│ mA        ┆ 5T14:09:0 ┆ the       ┆ the       ┆   ┆           ┆           ┆           ┆          │\n",
       "│           ┆ 3.000000  ┆ Dinosaurs ┆ greatest  ┆   ┆           ┆           ┆           ┆          │\n",
       "│           ┆           ┆ Died – M… ┆ Illusions ┆   ┆           ┆           ┆           ┆          │\n",
       "│           ┆           ┆           ┆ …         ┆   ┆           ┆           ┆           ┆          │\n",
       "│ 1AElONvi9 ┆ 2020-03-0 ┆ Why Blue  ┆ Cancer is ┆ … ┆ -0.202466 ┆ 0.262715  ┆ 0.278752  ┆ 0.055127 │\n",
       "│ WQ        ┆ 1T13:30:0 ┆ Whales    ┆ a creepy  ┆   ┆           ┆           ┆           ┆          │\n",
       "│           ┆ 0.000000  ┆ Don't Get ┆ and       ┆   ┆           ┆           ┆           ┆          │\n",
       "│           ┆           ┆ Canc…     ┆ mysteri…  ┆   ┆           ┆           ┆           ┆          │\n",
       "│ Hug0rfFC_ ┆ 2014-12-1 ┆ The       ┆ The       ┆ … ┆ 0.006073  ┆ 0.400234  ┆ -0.168515 ┆ -0.01790 │\n",
       "│ L8        ┆ 8T14:02:2 ┆ Ultimate  ┆ Internet  ┆   ┆           ┆           ┆           ┆ 1        │\n",
       "│           ┆ 7.000000  ┆ Conspirac ┆ is like a ┆   ┆           ┆           ┆           ┆          │\n",
       "│           ┆           ┆ y Debunk… ┆ breedin…  ┆   ┆           ┆           ┆           ┆          │\n",
       "│ lXfEK8G8C ┆ 2021-08-1 ┆ How The   ┆ the human ┆ … ┆ 0.419046  ┆ 0.039504  ┆ -0.211684 ┆ -0.23210 │\n",
       "│ UI        ┆ 0T13:59:4 ┆ Immune    ┆ immune    ┆   ┆           ┆           ┆           ┆ 4        │\n",
       "│           ┆ 1.000000  ┆ System    ┆ system is ┆   ┆           ┆           ┆           ┆          │\n",
       "│           ┆           ┆ ACTUALLY… ┆ the…      ┆   ┆           ┆           ┆           ┆          │\n",
       "└───────────┴───────────┴───────────┴───────────┴───┴───────────┴───────────┴───────────┴──────────┘"
      ]
     },
     "execution_count": 6,
     "metadata": {},
     "output_type": "execute_result"
    }
   ],
   "source": [
    "df.head()"
   ]
  },
  {
   "cell_type": "code",
   "execution_count": 8,
   "id": "e7985519",
   "metadata": {},
   "outputs": [],
   "source": [
    "df.write_csv('data/video-index.csv')"
   ]
  }
 ],
 "metadata": {
  "kernelspec": {
   "display_name": "Python 3",
   "language": "python",
   "name": "python3"
  },
  "language_info": {
   "codemirror_mode": {
    "name": "ipython",
    "version": 3
   },
   "file_extension": ".py",
   "mimetype": "text/x-python",
   "name": "python",
   "nbconvert_exporter": "python",
   "pygments_lexer": "ipython3",
   "version": "3.10.18"
  }
 },
 "nbformat": 4,
 "nbformat_minor": 5
}
